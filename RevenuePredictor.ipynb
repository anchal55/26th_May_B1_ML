{
 "cells": [
  {
   "cell_type": "code",
   "execution_count": 105,
   "id": "6570955f-e670-4da8-861c-24a8de7b23ba",
   "metadata": {},
   "outputs": [],
   "source": [
    "import numpy as np\n",
    "import pandas as pd\n",
    "import tkinter as tk\n",
    "import seaborn as sns \n",
    "import matplotlib.pyplot as plt\n",
    "import warnings\n",
    "warnings.filterwarnings('ignore')\n",
    "from sklearn.preprocessing import LabelEncoder\n",
    "from sklearn.linear_model import LinearRegression"
   ]
  },
  {
   "cell_type": "code",
   "execution_count": 106,
   "id": "4607ac62-1e2b-4d15-a914-bfc1ea2a5fb8",
   "metadata": {},
   "outputs": [
    {
     "data": {
      "text/html": [
       "<div>\n",
       "<style scoped>\n",
       "    .dataframe tbody tr th:only-of-type {\n",
       "        vertical-align: middle;\n",
       "    }\n",
       "\n",
       "    .dataframe tbody tr th {\n",
       "        vertical-align: top;\n",
       "    }\n",
       "\n",
       "    .dataframe thead th {\n",
       "        text-align: right;\n",
       "    }\n",
       "</style>\n",
       "<table border=\"1\" class=\"dataframe\">\n",
       "  <thead>\n",
       "    <tr style=\"text-align: right;\">\n",
       "      <th></th>\n",
       "      <th>Id</th>\n",
       "      <th>Open Date</th>\n",
       "      <th>City</th>\n",
       "      <th>City Group</th>\n",
       "      <th>Type</th>\n",
       "      <th>P1</th>\n",
       "      <th>P2</th>\n",
       "      <th>P3</th>\n",
       "      <th>P4</th>\n",
       "      <th>P5</th>\n",
       "      <th>...</th>\n",
       "      <th>P29</th>\n",
       "      <th>P30</th>\n",
       "      <th>P31</th>\n",
       "      <th>P32</th>\n",
       "      <th>P33</th>\n",
       "      <th>P34</th>\n",
       "      <th>P35</th>\n",
       "      <th>P36</th>\n",
       "      <th>P37</th>\n",
       "      <th>revenue</th>\n",
       "    </tr>\n",
       "  </thead>\n",
       "  <tbody>\n",
       "    <tr>\n",
       "      <th>0</th>\n",
       "      <td>0</td>\n",
       "      <td>07/17/1999</td>\n",
       "      <td>İstanbul</td>\n",
       "      <td>Big Cities</td>\n",
       "      <td>IL</td>\n",
       "      <td>4</td>\n",
       "      <td>5.0</td>\n",
       "      <td>4.0</td>\n",
       "      <td>4.0</td>\n",
       "      <td>2</td>\n",
       "      <td>...</td>\n",
       "      <td>3.0</td>\n",
       "      <td>5</td>\n",
       "      <td>3</td>\n",
       "      <td>4</td>\n",
       "      <td>5</td>\n",
       "      <td>5</td>\n",
       "      <td>4</td>\n",
       "      <td>3</td>\n",
       "      <td>4</td>\n",
       "      <td>5653753.0</td>\n",
       "    </tr>\n",
       "    <tr>\n",
       "      <th>1</th>\n",
       "      <td>1</td>\n",
       "      <td>02/14/2008</td>\n",
       "      <td>Ankara</td>\n",
       "      <td>Big Cities</td>\n",
       "      <td>FC</td>\n",
       "      <td>4</td>\n",
       "      <td>5.0</td>\n",
       "      <td>4.0</td>\n",
       "      <td>4.0</td>\n",
       "      <td>1</td>\n",
       "      <td>...</td>\n",
       "      <td>3.0</td>\n",
       "      <td>0</td>\n",
       "      <td>0</td>\n",
       "      <td>0</td>\n",
       "      <td>0</td>\n",
       "      <td>0</td>\n",
       "      <td>0</td>\n",
       "      <td>0</td>\n",
       "      <td>0</td>\n",
       "      <td>6923131.0</td>\n",
       "    </tr>\n",
       "    <tr>\n",
       "      <th>2</th>\n",
       "      <td>2</td>\n",
       "      <td>03/09/2013</td>\n",
       "      <td>Diyarbakır</td>\n",
       "      <td>Other</td>\n",
       "      <td>IL</td>\n",
       "      <td>2</td>\n",
       "      <td>4.0</td>\n",
       "      <td>2.0</td>\n",
       "      <td>5.0</td>\n",
       "      <td>2</td>\n",
       "      <td>...</td>\n",
       "      <td>3.0</td>\n",
       "      <td>0</td>\n",
       "      <td>0</td>\n",
       "      <td>0</td>\n",
       "      <td>0</td>\n",
       "      <td>0</td>\n",
       "      <td>0</td>\n",
       "      <td>0</td>\n",
       "      <td>0</td>\n",
       "      <td>2055379.0</td>\n",
       "    </tr>\n",
       "    <tr>\n",
       "      <th>3</th>\n",
       "      <td>3</td>\n",
       "      <td>02/02/2012</td>\n",
       "      <td>Tokat</td>\n",
       "      <td>Other</td>\n",
       "      <td>IL</td>\n",
       "      <td>6</td>\n",
       "      <td>4.5</td>\n",
       "      <td>6.0</td>\n",
       "      <td>6.0</td>\n",
       "      <td>4</td>\n",
       "      <td>...</td>\n",
       "      <td>7.5</td>\n",
       "      <td>25</td>\n",
       "      <td>12</td>\n",
       "      <td>10</td>\n",
       "      <td>6</td>\n",
       "      <td>18</td>\n",
       "      <td>12</td>\n",
       "      <td>12</td>\n",
       "      <td>6</td>\n",
       "      <td>2675511.0</td>\n",
       "    </tr>\n",
       "    <tr>\n",
       "      <th>4</th>\n",
       "      <td>4</td>\n",
       "      <td>05/09/2009</td>\n",
       "      <td>Gaziantep</td>\n",
       "      <td>Other</td>\n",
       "      <td>IL</td>\n",
       "      <td>3</td>\n",
       "      <td>4.0</td>\n",
       "      <td>3.0</td>\n",
       "      <td>4.0</td>\n",
       "      <td>2</td>\n",
       "      <td>...</td>\n",
       "      <td>3.0</td>\n",
       "      <td>5</td>\n",
       "      <td>1</td>\n",
       "      <td>3</td>\n",
       "      <td>2</td>\n",
       "      <td>3</td>\n",
       "      <td>4</td>\n",
       "      <td>3</td>\n",
       "      <td>3</td>\n",
       "      <td>4316715.0</td>\n",
       "    </tr>\n",
       "  </tbody>\n",
       "</table>\n",
       "<p>5 rows × 43 columns</p>\n",
       "</div>"
      ],
      "text/plain": [
       "   Id   Open Date        City  City Group Type  P1   P2   P3   P4  P5  ...  \\\n",
       "0   0  07/17/1999    İstanbul  Big Cities   IL   4  5.0  4.0  4.0   2  ...   \n",
       "1   1  02/14/2008      Ankara  Big Cities   FC   4  5.0  4.0  4.0   1  ...   \n",
       "2   2  03/09/2013  Diyarbakır       Other   IL   2  4.0  2.0  5.0   2  ...   \n",
       "3   3  02/02/2012       Tokat       Other   IL   6  4.5  6.0  6.0   4  ...   \n",
       "4   4  05/09/2009   Gaziantep       Other   IL   3  4.0  3.0  4.0   2  ...   \n",
       "\n",
       "   P29  P30  P31  P32  P33  P34  P35  P36  P37    revenue  \n",
       "0  3.0    5    3    4    5    5    4    3    4  5653753.0  \n",
       "1  3.0    0    0    0    0    0    0    0    0  6923131.0  \n",
       "2  3.0    0    0    0    0    0    0    0    0  2055379.0  \n",
       "3  7.5   25   12   10    6   18   12   12    6  2675511.0  \n",
       "4  3.0    5    1    3    2    3    4    3    3  4316715.0  \n",
       "\n",
       "[5 rows x 43 columns]"
      ]
     },
     "execution_count": 106,
     "metadata": {},
     "output_type": "execute_result"
    }
   ],
   "source": [
    "df = pd.read_csv('train.csv')\n",
    "df.head()"
   ]
  },
  {
   "cell_type": "code",
   "execution_count": 107,
   "id": "c038fbaa-a4cc-4bc3-b31e-2dbd675345ca",
   "metadata": {},
   "outputs": [],
   "source": [
    "X = df[['P1','P2','P3','P4','P5','P6','P7','P8','P9','P10','P11','P12','P13','P14','P15','P16','P17','P18','P19','P20','P21','P22','P23','P24','P25','P26','P27','P28','P29','P30','P31','P32','P33','P34','P35','P36','P37']]"
   ]
  },
  {
   "cell_type": "code",
   "execution_count": 108,
   "id": "339bb541-0478-47e8-a163-d5bc53e0611f",
   "metadata": {},
   "outputs": [
    {
     "data": {
      "text/plain": [
       "(137, 37)"
      ]
     },
     "execution_count": 108,
     "metadata": {},
     "output_type": "execute_result"
    }
   ],
   "source": [
    "X.shape"
   ]
  },
  {
   "cell_type": "code",
   "execution_count": 109,
   "id": "6d2772ab-9f29-42d5-aa9e-06c0848ef700",
   "metadata": {},
   "outputs": [],
   "source": [
    "Y = df[['revenue']]"
   ]
  },
  {
   "cell_type": "code",
   "execution_count": 110,
   "id": "1b3b9691-4c1a-4a69-86fc-945bae569e42",
   "metadata": {},
   "outputs": [],
   "source": [
    "le = LabelEncoder()"
   ]
  },
  {
   "cell_type": "code",
   "execution_count": 111,
   "id": "652bf7c9-d30b-41c1-afcc-c898daaa8488",
   "metadata": {},
   "outputs": [],
   "source": [
    "ty = df[['Type']]\n",
    "city = df[['City']]\n",
    "#c_group = df[['City Group']]"
   ]
  },
  {
   "cell_type": "code",
   "execution_count": 112,
   "id": "6c33c3f0-90bb-4824-927b-089d6334a990",
   "metadata": {},
   "outputs": [],
   "source": [
    "type_le = le.fit_transform(ty)\n",
    "city_le = le.fit_transform(city)\n",
    "#cg_le = le.fit_transform(c_group)"
   ]
  },
  {
   "cell_type": "code",
   "execution_count": 113,
   "id": "e7612a48-b48f-4045-af1a-e5d40663ba46",
   "metadata": {},
   "outputs": [],
   "source": [
    "type_le = type_le.reshape(-1,1)\n",
    "city_le = city_le.reshape(-1,1)\n",
    "#cg_le = cg_le.reshape(-1,1)"
   ]
  },
  {
   "cell_type": "code",
   "execution_count": 114,
   "id": "9ff5e2c4-85cd-4440-8d9b-a8ecb21d6adb",
   "metadata": {},
   "outputs": [
    {
     "data": {
      "text/plain": [
       "(137, 1)"
      ]
     },
     "execution_count": 114,
     "metadata": {},
     "output_type": "execute_result"
    }
   ],
   "source": [
    "type_le.shape"
   ]
  },
  {
   "cell_type": "code",
   "execution_count": 115,
   "id": "66b3f590-7f44-4f8c-85bb-ea30ab2025ee",
   "metadata": {},
   "outputs": [],
   "source": [
    "type_le = pd.DataFrame(type_le)\n",
    "#city_le = pd.DataFrame(city_le)\n",
    "cg_le = pd.DataFrame(cg_le)"
   ]
  },
  {
   "cell_type": "code",
   "execution_count": 116,
   "id": "ce8abf58-e152-4bc6-a41a-a0c6b325f883",
   "metadata": {},
   "outputs": [],
   "source": [
    "X = pd.concat([cg_le,type_le,X],axis=1)"
   ]
  },
  {
   "cell_type": "code",
   "execution_count": 117,
   "id": "39722177-3580-4b40-9ab5-6edc1cd39ed8",
   "metadata": {},
   "outputs": [
    {
     "data": {
      "text/plain": [
       "(137, 39)"
      ]
     },
     "execution_count": 117,
     "metadata": {},
     "output_type": "execute_result"
    }
   ],
   "source": [
    "X.shape "
   ]
  },
  {
   "cell_type": "code",
   "execution_count": 118,
   "id": "a45ec4f3-d329-4cf9-b5ac-8bc3706936f7",
   "metadata": {},
   "outputs": [],
   "source": [
    "model = LinearRegression()"
   ]
  },
  {
   "cell_type": "code",
   "execution_count": 119,
   "id": "a0dad563-60e4-42a1-9358-54c33de112ff",
   "metadata": {},
   "outputs": [
    {
     "data": {
      "text/plain": [
       "LinearRegression()"
      ]
     },
     "execution_count": 119,
     "metadata": {},
     "output_type": "execute_result"
    }
   ],
   "source": [
    "model.fit(X,Y)"
   ]
  },
  {
   "cell_type": "code",
   "execution_count": 120,
   "id": "fd246663-cab9-4118-a3fa-9d99d45ea74e",
   "metadata": {},
   "outputs": [
    {
     "data": {
      "text/plain": [
       "array([[ -293845.64106635,  -537860.42408446,   244014.07029599,\n",
       "          254299.93340671,   -75971.62377006,  -258529.51500147,\n",
       "            5961.05383806,   374733.17470551,    21016.02908029,\n",
       "        -1273881.10818579,  1391629.0507052 ,    19203.85712489,\n",
       "         -230912.52409458,  -253252.89601353,  -908308.7443241 ,\n",
       "         -281264.37017513,     9820.67423173,  -576289.86570393,\n",
       "          478395.55321227,   441553.64086224,   -63142.08867874,\n",
       "         -354258.40192022,   163945.0286454 ,  -252890.67390506,\n",
       "          132283.90920648,   477992.4933784 ,   390773.2303452 ,\n",
       "        -1067728.46083699,   115520.54759412,   524219.35795543,\n",
       "          -48452.74394275,    56631.5187652 ,    59254.54209837,\n",
       "         -224095.25529766,  -223987.87859204,   157756.67202776,\n",
       "         -179559.76287311,   328077.74729488,   239161.83938973]])"
      ]
     },
     "execution_count": 120,
     "metadata": {},
     "output_type": "execute_result"
    }
   ],
   "source": [
    "model.coef_"
   ]
  },
  {
   "cell_type": "code",
   "execution_count": 121,
   "id": "e18a43f7-965b-4e1e-ab10-383d104affa0",
   "metadata": {},
   "outputs": [
    {
     "data": {
      "text/plain": [
       "array([9025037.75748155])"
      ]
     },
     "execution_count": 121,
     "metadata": {},
     "output_type": "execute_result"
    }
   ],
   "source": [
    "model.intercept_"
   ]
  },
  {
   "cell_type": "code",
   "execution_count": 122,
   "id": "40a26072-5cb4-4cc2-a41f-fbe59539cea4",
   "metadata": {},
   "outputs": [],
   "source": [
    "pred = model.predict([['0','2','4','5','3','5','2','2','5','4','4','5','4','4','5','0','0','0','0','0','2','1','1','1','1','0','0','0','0','3','3','0','0','0','0','0','0','0','0']])"
   ]
  },
  {
   "cell_type": "code",
   "execution_count": 131,
   "id": "5c038cd5-5e80-4801-8bb2-9e7e74836653",
   "metadata": {},
   "outputs": [],
   "source": [
    "acc = (pred/6363241)*100"
   ]
  },
  {
   "cell_type": "code",
   "execution_count": 132,
   "id": "93e03caf-b8ce-4d43-96b9-26fa42a8ebb6",
   "metadata": {},
   "outputs": [
    {
     "data": {
      "text/plain": [
       "array([[72.6309155]])"
      ]
     },
     "execution_count": 132,
     "metadata": {},
     "output_type": "execute_result"
    }
   ],
   "source": [
    "acc"
   ]
  },
  {
   "cell_type": "code",
   "execution_count": 133,
   "id": "f3b1cfd6-483f-45b5-a48b-321843b07856",
   "metadata": {},
   "outputs": [
    {
     "data": {
      "text/html": [
       "<div>\n",
       "<style scoped>\n",
       "    .dataframe tbody tr th:only-of-type {\n",
       "        vertical-align: middle;\n",
       "    }\n",
       "\n",
       "    .dataframe tbody tr th {\n",
       "        vertical-align: top;\n",
       "    }\n",
       "\n",
       "    .dataframe thead th {\n",
       "        text-align: right;\n",
       "    }\n",
       "</style>\n",
       "<table border=\"1\" class=\"dataframe\">\n",
       "  <thead>\n",
       "    <tr style=\"text-align: right;\">\n",
       "      <th></th>\n",
       "      <th>0</th>\n",
       "      <th>0</th>\n",
       "      <th>P1</th>\n",
       "      <th>P2</th>\n",
       "      <th>P3</th>\n",
       "      <th>P4</th>\n",
       "      <th>P5</th>\n",
       "      <th>P6</th>\n",
       "      <th>P7</th>\n",
       "      <th>P8</th>\n",
       "      <th>...</th>\n",
       "      <th>P28</th>\n",
       "      <th>P29</th>\n",
       "      <th>P30</th>\n",
       "      <th>P31</th>\n",
       "      <th>P32</th>\n",
       "      <th>P33</th>\n",
       "      <th>P34</th>\n",
       "      <th>P35</th>\n",
       "      <th>P36</th>\n",
       "      <th>P37</th>\n",
       "    </tr>\n",
       "  </thead>\n",
       "  <tbody>\n",
       "    <tr>\n",
       "      <th>0</th>\n",
       "      <td>1.000000</td>\n",
       "      <td>-0.098585</td>\n",
       "      <td>-0.258556</td>\n",
       "      <td>-0.421095</td>\n",
       "      <td>-0.082172</td>\n",
       "      <td>-0.174134</td>\n",
       "      <td>0.019195</td>\n",
       "      <td>-0.416644</td>\n",
       "      <td>-0.193106</td>\n",
       "      <td>-0.071993</td>\n",
       "      <td>...</td>\n",
       "      <td>-0.298842</td>\n",
       "      <td>0.035497</td>\n",
       "      <td>-0.123097</td>\n",
       "      <td>-0.204542</td>\n",
       "      <td>-0.169750</td>\n",
       "      <td>-0.106115</td>\n",
       "      <td>-0.117024</td>\n",
       "      <td>-0.127973</td>\n",
       "      <td>-0.136617</td>\n",
       "      <td>-0.089976</td>\n",
       "    </tr>\n",
       "    <tr>\n",
       "      <th>0</th>\n",
       "      <td>-0.098585</td>\n",
       "      <td>1.000000</td>\n",
       "      <td>0.198231</td>\n",
       "      <td>0.150700</td>\n",
       "      <td>0.247365</td>\n",
       "      <td>0.057078</td>\n",
       "      <td>0.006765</td>\n",
       "      <td>0.127271</td>\n",
       "      <td>0.212908</td>\n",
       "      <td>0.123399</td>\n",
       "      <td>...</td>\n",
       "      <td>0.111218</td>\n",
       "      <td>0.094343</td>\n",
       "      <td>0.539807</td>\n",
       "      <td>0.599333</td>\n",
       "      <td>0.524885</td>\n",
       "      <td>0.700818</td>\n",
       "      <td>0.520788</td>\n",
       "      <td>0.641135</td>\n",
       "      <td>0.574185</td>\n",
       "      <td>0.634963</td>\n",
       "    </tr>\n",
       "    <tr>\n",
       "      <th>P1</th>\n",
       "      <td>-0.258556</td>\n",
       "      <td>0.198231</td>\n",
       "      <td>1.000000</td>\n",
       "      <td>0.836671</td>\n",
       "      <td>0.695928</td>\n",
       "      <td>0.677941</td>\n",
       "      <td>0.302820</td>\n",
       "      <td>0.747296</td>\n",
       "      <td>0.853753</td>\n",
       "      <td>0.760820</td>\n",
       "      <td>...</td>\n",
       "      <td>0.843738</td>\n",
       "      <td>0.586532</td>\n",
       "      <td>0.487589</td>\n",
       "      <td>0.479175</td>\n",
       "      <td>0.552593</td>\n",
       "      <td>0.329795</td>\n",
       "      <td>0.570835</td>\n",
       "      <td>0.449182</td>\n",
       "      <td>0.554951</td>\n",
       "      <td>0.277601</td>\n",
       "    </tr>\n",
       "    <tr>\n",
       "      <th>P2</th>\n",
       "      <td>-0.421095</td>\n",
       "      <td>0.150700</td>\n",
       "      <td>0.836671</td>\n",
       "      <td>1.000000</td>\n",
       "      <td>0.473551</td>\n",
       "      <td>0.540322</td>\n",
       "      <td>0.203003</td>\n",
       "      <td>0.673106</td>\n",
       "      <td>0.769842</td>\n",
       "      <td>0.505116</td>\n",
       "      <td>...</td>\n",
       "      <td>0.732712</td>\n",
       "      <td>0.322511</td>\n",
       "      <td>0.342005</td>\n",
       "      <td>0.353477</td>\n",
       "      <td>0.389376</td>\n",
       "      <td>0.234991</td>\n",
       "      <td>0.394319</td>\n",
       "      <td>0.314798</td>\n",
       "      <td>0.387938</td>\n",
       "      <td>0.161162</td>\n",
       "    </tr>\n",
       "    <tr>\n",
       "      <th>P3</th>\n",
       "      <td>-0.082172</td>\n",
       "      <td>0.247365</td>\n",
       "      <td>0.695928</td>\n",
       "      <td>0.473551</td>\n",
       "      <td>1.000000</td>\n",
       "      <td>0.443606</td>\n",
       "      <td>0.168891</td>\n",
       "      <td>0.570486</td>\n",
       "      <td>0.651489</td>\n",
       "      <td>0.689173</td>\n",
       "      <td>...</td>\n",
       "      <td>0.643420</td>\n",
       "      <td>0.571525</td>\n",
       "      <td>0.473089</td>\n",
       "      <td>0.406701</td>\n",
       "      <td>0.463217</td>\n",
       "      <td>0.312269</td>\n",
       "      <td>0.501575</td>\n",
       "      <td>0.428504</td>\n",
       "      <td>0.484942</td>\n",
       "      <td>0.284065</td>\n",
       "    </tr>\n",
       "    <tr>\n",
       "      <th>P4</th>\n",
       "      <td>-0.174134</td>\n",
       "      <td>0.057078</td>\n",
       "      <td>0.677941</td>\n",
       "      <td>0.540322</td>\n",
       "      <td>0.443606</td>\n",
       "      <td>1.000000</td>\n",
       "      <td>0.715406</td>\n",
       "      <td>0.595724</td>\n",
       "      <td>0.700482</td>\n",
       "      <td>0.654594</td>\n",
       "      <td>...</td>\n",
       "      <td>0.641971</td>\n",
       "      <td>0.452364</td>\n",
       "      <td>0.387747</td>\n",
       "      <td>0.333626</td>\n",
       "      <td>0.440795</td>\n",
       "      <td>0.182820</td>\n",
       "      <td>0.434245</td>\n",
       "      <td>0.277902</td>\n",
       "      <td>0.411664</td>\n",
       "      <td>0.177916</td>\n",
       "    </tr>\n",
       "    <tr>\n",
       "      <th>P5</th>\n",
       "      <td>0.019195</td>\n",
       "      <td>0.006765</td>\n",
       "      <td>0.302820</td>\n",
       "      <td>0.203003</td>\n",
       "      <td>0.168891</td>\n",
       "      <td>0.715406</td>\n",
       "      <td>1.000000</td>\n",
       "      <td>0.326524</td>\n",
       "      <td>0.446154</td>\n",
       "      <td>0.447577</td>\n",
       "      <td>...</td>\n",
       "      <td>0.323253</td>\n",
       "      <td>0.306904</td>\n",
       "      <td>0.244032</td>\n",
       "      <td>0.112603</td>\n",
       "      <td>0.215568</td>\n",
       "      <td>0.071079</td>\n",
       "      <td>0.243040</td>\n",
       "      <td>0.173309</td>\n",
       "      <td>0.193652</td>\n",
       "      <td>0.033548</td>\n",
       "    </tr>\n",
       "    <tr>\n",
       "      <th>P6</th>\n",
       "      <td>-0.416644</td>\n",
       "      <td>0.127271</td>\n",
       "      <td>0.747296</td>\n",
       "      <td>0.673106</td>\n",
       "      <td>0.570486</td>\n",
       "      <td>0.595724</td>\n",
       "      <td>0.326524</td>\n",
       "      <td>1.000000</td>\n",
       "      <td>0.738388</td>\n",
       "      <td>0.720144</td>\n",
       "      <td>...</td>\n",
       "      <td>0.729083</td>\n",
       "      <td>0.563415</td>\n",
       "      <td>0.460618</td>\n",
       "      <td>0.477593</td>\n",
       "      <td>0.519243</td>\n",
       "      <td>0.300611</td>\n",
       "      <td>0.519635</td>\n",
       "      <td>0.413645</td>\n",
       "      <td>0.524552</td>\n",
       "      <td>0.327594</td>\n",
       "    </tr>\n",
       "    <tr>\n",
       "      <th>P7</th>\n",
       "      <td>-0.193106</td>\n",
       "      <td>0.212908</td>\n",
       "      <td>0.853753</td>\n",
       "      <td>0.769842</td>\n",
       "      <td>0.651489</td>\n",
       "      <td>0.700482</td>\n",
       "      <td>0.446154</td>\n",
       "      <td>0.738388</td>\n",
       "      <td>1.000000</td>\n",
       "      <td>0.751196</td>\n",
       "      <td>...</td>\n",
       "      <td>0.739868</td>\n",
       "      <td>0.584071</td>\n",
       "      <td>0.509213</td>\n",
       "      <td>0.452471</td>\n",
       "      <td>0.531011</td>\n",
       "      <td>0.339178</td>\n",
       "      <td>0.562561</td>\n",
       "      <td>0.457721</td>\n",
       "      <td>0.543563</td>\n",
       "      <td>0.309678</td>\n",
       "    </tr>\n",
       "    <tr>\n",
       "      <th>P8</th>\n",
       "      <td>-0.071993</td>\n",
       "      <td>0.123399</td>\n",
       "      <td>0.760820</td>\n",
       "      <td>0.505116</td>\n",
       "      <td>0.689173</td>\n",
       "      <td>0.654594</td>\n",
       "      <td>0.447577</td>\n",
       "      <td>0.720144</td>\n",
       "      <td>0.751196</td>\n",
       "      <td>1.000000</td>\n",
       "      <td>...</td>\n",
       "      <td>0.630284</td>\n",
       "      <td>0.754736</td>\n",
       "      <td>0.454937</td>\n",
       "      <td>0.420425</td>\n",
       "      <td>0.516617</td>\n",
       "      <td>0.256416</td>\n",
       "      <td>0.524474</td>\n",
       "      <td>0.405709</td>\n",
       "      <td>0.499777</td>\n",
       "      <td>0.308294</td>\n",
       "    </tr>\n",
       "    <tr>\n",
       "      <th>P9</th>\n",
       "      <td>-0.018305</td>\n",
       "      <td>0.162394</td>\n",
       "      <td>0.765743</td>\n",
       "      <td>0.481635</td>\n",
       "      <td>0.741967</td>\n",
       "      <td>0.675336</td>\n",
       "      <td>0.465662</td>\n",
       "      <td>0.676323</td>\n",
       "      <td>0.775003</td>\n",
       "      <td>0.919956</td>\n",
       "      <td>...</td>\n",
       "      <td>0.635144</td>\n",
       "      <td>0.789784</td>\n",
       "      <td>0.502670</td>\n",
       "      <td>0.467334</td>\n",
       "      <td>0.544749</td>\n",
       "      <td>0.326869</td>\n",
       "      <td>0.582042</td>\n",
       "      <td>0.467916</td>\n",
       "      <td>0.551953</td>\n",
       "      <td>0.330927</td>\n",
       "    </tr>\n",
       "    <tr>\n",
       "      <th>P10</th>\n",
       "      <td>0.001169</td>\n",
       "      <td>0.164508</td>\n",
       "      <td>0.795885</td>\n",
       "      <td>0.498135</td>\n",
       "      <td>0.764191</td>\n",
       "      <td>0.685416</td>\n",
       "      <td>0.462299</td>\n",
       "      <td>0.654594</td>\n",
       "      <td>0.775642</td>\n",
       "      <td>0.881650</td>\n",
       "      <td>...</td>\n",
       "      <td>0.669822</td>\n",
       "      <td>0.789510</td>\n",
       "      <td>0.514738</td>\n",
       "      <td>0.462235</td>\n",
       "      <td>0.549238</td>\n",
       "      <td>0.320317</td>\n",
       "      <td>0.601956</td>\n",
       "      <td>0.483010</td>\n",
       "      <td>0.565068</td>\n",
       "      <td>0.313748</td>\n",
       "    </tr>\n",
       "    <tr>\n",
       "      <th>P11</th>\n",
       "      <td>-0.120045</td>\n",
       "      <td>0.101524</td>\n",
       "      <td>0.542735</td>\n",
       "      <td>0.442719</td>\n",
       "      <td>0.417752</td>\n",
       "      <td>0.585285</td>\n",
       "      <td>0.435002</td>\n",
       "      <td>0.432959</td>\n",
       "      <td>0.503903</td>\n",
       "      <td>0.230823</td>\n",
       "      <td>...</td>\n",
       "      <td>0.602499</td>\n",
       "      <td>0.292211</td>\n",
       "      <td>0.410573</td>\n",
       "      <td>0.300331</td>\n",
       "      <td>0.358379</td>\n",
       "      <td>0.244698</td>\n",
       "      <td>0.401866</td>\n",
       "      <td>0.291108</td>\n",
       "      <td>0.383485</td>\n",
       "      <td>0.158579</td>\n",
       "    </tr>\n",
       "    <tr>\n",
       "      <th>P12</th>\n",
       "      <td>0.025473</td>\n",
       "      <td>0.106176</td>\n",
       "      <td>0.708360</td>\n",
       "      <td>0.428065</td>\n",
       "      <td>0.684071</td>\n",
       "      <td>0.595115</td>\n",
       "      <td>0.409181</td>\n",
       "      <td>0.637594</td>\n",
       "      <td>0.733115</td>\n",
       "      <td>0.889829</td>\n",
       "      <td>...</td>\n",
       "      <td>0.559921</td>\n",
       "      <td>0.797455</td>\n",
       "      <td>0.433005</td>\n",
       "      <td>0.403691</td>\n",
       "      <td>0.471691</td>\n",
       "      <td>0.281619</td>\n",
       "      <td>0.519051</td>\n",
       "      <td>0.426274</td>\n",
       "      <td>0.491803</td>\n",
       "      <td>0.304963</td>\n",
       "    </tr>\n",
       "    <tr>\n",
       "      <th>P13</th>\n",
       "      <td>0.039435</td>\n",
       "      <td>0.149246</td>\n",
       "      <td>0.708896</td>\n",
       "      <td>0.410924</td>\n",
       "      <td>0.697519</td>\n",
       "      <td>0.571611</td>\n",
       "      <td>0.380722</td>\n",
       "      <td>0.558621</td>\n",
       "      <td>0.702162</td>\n",
       "      <td>0.810365</td>\n",
       "      <td>...</td>\n",
       "      <td>0.576252</td>\n",
       "      <td>0.740722</td>\n",
       "      <td>0.466337</td>\n",
       "      <td>0.425461</td>\n",
       "      <td>0.499431</td>\n",
       "      <td>0.302684</td>\n",
       "      <td>0.555712</td>\n",
       "      <td>0.457633</td>\n",
       "      <td>0.520219</td>\n",
       "      <td>0.295972</td>\n",
       "    </tr>\n",
       "    <tr>\n",
       "      <th>P14</th>\n",
       "      <td>-0.133054</td>\n",
       "      <td>0.544758</td>\n",
       "      <td>0.491638</td>\n",
       "      <td>0.365777</td>\n",
       "      <td>0.393765</td>\n",
       "      <td>0.347917</td>\n",
       "      <td>0.079245</td>\n",
       "      <td>0.422343</td>\n",
       "      <td>0.457255</td>\n",
       "      <td>0.351134</td>\n",
       "      <td>...</td>\n",
       "      <td>0.446060</td>\n",
       "      <td>0.304980</td>\n",
       "      <td>0.812712</td>\n",
       "      <td>0.795637</td>\n",
       "      <td>0.840592</td>\n",
       "      <td>0.801055</td>\n",
       "      <td>0.853824</td>\n",
       "      <td>0.815550</td>\n",
       "      <td>0.892459</td>\n",
       "      <td>0.776719</td>\n",
       "    </tr>\n",
       "    <tr>\n",
       "      <th>P15</th>\n",
       "      <td>-0.128448</td>\n",
       "      <td>0.630232</td>\n",
       "      <td>0.473155</td>\n",
       "      <td>0.358841</td>\n",
       "      <td>0.379107</td>\n",
       "      <td>0.287313</td>\n",
       "      <td>0.044635</td>\n",
       "      <td>0.426646</td>\n",
       "      <td>0.429170</td>\n",
       "      <td>0.303275</td>\n",
       "      <td>...</td>\n",
       "      <td>0.407208</td>\n",
       "      <td>0.299711</td>\n",
       "      <td>0.743738</td>\n",
       "      <td>0.798711</td>\n",
       "      <td>0.797193</td>\n",
       "      <td>0.806085</td>\n",
       "      <td>0.813125</td>\n",
       "      <td>0.819329</td>\n",
       "      <td>0.890441</td>\n",
       "      <td>0.768268</td>\n",
       "    </tr>\n",
       "    <tr>\n",
       "      <th>P16</th>\n",
       "      <td>-0.141607</td>\n",
       "      <td>0.596308</td>\n",
       "      <td>0.544892</td>\n",
       "      <td>0.396337</td>\n",
       "      <td>0.471427</td>\n",
       "      <td>0.379619</td>\n",
       "      <td>0.164822</td>\n",
       "      <td>0.520707</td>\n",
       "      <td>0.529988</td>\n",
       "      <td>0.456162</td>\n",
       "      <td>...</td>\n",
       "      <td>0.455373</td>\n",
       "      <td>0.425590</td>\n",
       "      <td>0.869697</td>\n",
       "      <td>0.899675</td>\n",
       "      <td>0.928434</td>\n",
       "      <td>0.823748</td>\n",
       "      <td>0.941628</td>\n",
       "      <td>0.899202</td>\n",
       "      <td>0.981550</td>\n",
       "      <td>0.801029</td>\n",
       "    </tr>\n",
       "    <tr>\n",
       "      <th>P17</th>\n",
       "      <td>-0.183261</td>\n",
       "      <td>0.551008</td>\n",
       "      <td>0.412963</td>\n",
       "      <td>0.332134</td>\n",
       "      <td>0.327644</td>\n",
       "      <td>0.235605</td>\n",
       "      <td>0.038805</td>\n",
       "      <td>0.380396</td>\n",
       "      <td>0.365565</td>\n",
       "      <td>0.294639</td>\n",
       "      <td>...</td>\n",
       "      <td>0.345635</td>\n",
       "      <td>0.224734</td>\n",
       "      <td>0.739895</td>\n",
       "      <td>0.770449</td>\n",
       "      <td>0.772197</td>\n",
       "      <td>0.716934</td>\n",
       "      <td>0.735778</td>\n",
       "      <td>0.781719</td>\n",
       "      <td>0.812184</td>\n",
       "      <td>0.726738</td>\n",
       "    </tr>\n",
       "    <tr>\n",
       "      <th>P18</th>\n",
       "      <td>-0.132483</td>\n",
       "      <td>0.629037</td>\n",
       "      <td>0.478503</td>\n",
       "      <td>0.348191</td>\n",
       "      <td>0.425214</td>\n",
       "      <td>0.359393</td>\n",
       "      <td>0.193489</td>\n",
       "      <td>0.453924</td>\n",
       "      <td>0.496990</td>\n",
       "      <td>0.430591</td>\n",
       "      <td>...</td>\n",
       "      <td>0.369350</td>\n",
       "      <td>0.420248</td>\n",
       "      <td>0.836870</td>\n",
       "      <td>0.900439</td>\n",
       "      <td>0.915038</td>\n",
       "      <td>0.861861</td>\n",
       "      <td>0.926000</td>\n",
       "      <td>0.916872</td>\n",
       "      <td>0.952266</td>\n",
       "      <td>0.833428</td>\n",
       "    </tr>\n",
       "    <tr>\n",
       "      <th>P19</th>\n",
       "      <td>-0.053857</td>\n",
       "      <td>0.201576</td>\n",
       "      <td>0.802494</td>\n",
       "      <td>0.595681</td>\n",
       "      <td>0.648948</td>\n",
       "      <td>0.725829</td>\n",
       "      <td>0.509874</td>\n",
       "      <td>0.530297</td>\n",
       "      <td>0.758294</td>\n",
       "      <td>0.667079</td>\n",
       "      <td>...</td>\n",
       "      <td>0.765656</td>\n",
       "      <td>0.417782</td>\n",
       "      <td>0.466695</td>\n",
       "      <td>0.369915</td>\n",
       "      <td>0.437442</td>\n",
       "      <td>0.298000</td>\n",
       "      <td>0.453496</td>\n",
       "      <td>0.346822</td>\n",
       "      <td>0.425475</td>\n",
       "      <td>0.226764</td>\n",
       "    </tr>\n",
       "    <tr>\n",
       "      <th>P20</th>\n",
       "      <td>-0.164784</td>\n",
       "      <td>0.258550</td>\n",
       "      <td>0.820953</td>\n",
       "      <td>0.668683</td>\n",
       "      <td>0.682262</td>\n",
       "      <td>0.579561</td>\n",
       "      <td>0.343363</td>\n",
       "      <td>0.664487</td>\n",
       "      <td>0.793642</td>\n",
       "      <td>0.612958</td>\n",
       "      <td>...</td>\n",
       "      <td>0.786129</td>\n",
       "      <td>0.505358</td>\n",
       "      <td>0.593911</td>\n",
       "      <td>0.505542</td>\n",
       "      <td>0.567801</td>\n",
       "      <td>0.420983</td>\n",
       "      <td>0.610553</td>\n",
       "      <td>0.529064</td>\n",
       "      <td>0.587118</td>\n",
       "      <td>0.326929</td>\n",
       "    </tr>\n",
       "    <tr>\n",
       "      <th>P21</th>\n",
       "      <td>-0.049982</td>\n",
       "      <td>0.224538</td>\n",
       "      <td>0.654138</td>\n",
       "      <td>0.522294</td>\n",
       "      <td>0.559543</td>\n",
       "      <td>0.545285</td>\n",
       "      <td>0.342726</td>\n",
       "      <td>0.427613</td>\n",
       "      <td>0.604106</td>\n",
       "      <td>0.420807</td>\n",
       "      <td>...</td>\n",
       "      <td>0.729631</td>\n",
       "      <td>0.267466</td>\n",
       "      <td>0.482010</td>\n",
       "      <td>0.429568</td>\n",
       "      <td>0.481878</td>\n",
       "      <td>0.373014</td>\n",
       "      <td>0.525638</td>\n",
       "      <td>0.437753</td>\n",
       "      <td>0.501181</td>\n",
       "      <td>0.273409</td>\n",
       "    </tr>\n",
       "    <tr>\n",
       "      <th>P22</th>\n",
       "      <td>-0.256669</td>\n",
       "      <td>0.147737</td>\n",
       "      <td>0.389116</td>\n",
       "      <td>0.476538</td>\n",
       "      <td>0.243983</td>\n",
       "      <td>0.076177</td>\n",
       "      <td>-0.198689</td>\n",
       "      <td>0.206913</td>\n",
       "      <td>0.270211</td>\n",
       "      <td>0.045803</td>\n",
       "      <td>...</td>\n",
       "      <td>0.484167</td>\n",
       "      <td>-0.148172</td>\n",
       "      <td>0.170901</td>\n",
       "      <td>0.181702</td>\n",
       "      <td>0.169877</td>\n",
       "      <td>0.178341</td>\n",
       "      <td>0.143249</td>\n",
       "      <td>0.156648</td>\n",
       "      <td>0.165467</td>\n",
       "      <td>0.108030</td>\n",
       "    </tr>\n",
       "    <tr>\n",
       "      <th>P23</th>\n",
       "      <td>-0.006419</td>\n",
       "      <td>0.214427</td>\n",
       "      <td>0.702120</td>\n",
       "      <td>0.513936</td>\n",
       "      <td>0.602325</td>\n",
       "      <td>0.559099</td>\n",
       "      <td>0.354058</td>\n",
       "      <td>0.486043</td>\n",
       "      <td>0.651876</td>\n",
       "      <td>0.512021</td>\n",
       "      <td>...</td>\n",
       "      <td>0.718784</td>\n",
       "      <td>0.393031</td>\n",
       "      <td>0.475536</td>\n",
       "      <td>0.367508</td>\n",
       "      <td>0.433061</td>\n",
       "      <td>0.316115</td>\n",
       "      <td>0.470396</td>\n",
       "      <td>0.399514</td>\n",
       "      <td>0.448681</td>\n",
       "      <td>0.216329</td>\n",
       "    </tr>\n",
       "    <tr>\n",
       "      <th>P24</th>\n",
       "      <td>-0.237349</td>\n",
       "      <td>0.617804</td>\n",
       "      <td>0.425720</td>\n",
       "      <td>0.354225</td>\n",
       "      <td>0.337895</td>\n",
       "      <td>0.213535</td>\n",
       "      <td>0.020124</td>\n",
       "      <td>0.461674</td>\n",
       "      <td>0.375711</td>\n",
       "      <td>0.323116</td>\n",
       "      <td>...</td>\n",
       "      <td>0.401039</td>\n",
       "      <td>0.247974</td>\n",
       "      <td>0.732452</td>\n",
       "      <td>0.823207</td>\n",
       "      <td>0.787841</td>\n",
       "      <td>0.770173</td>\n",
       "      <td>0.763692</td>\n",
       "      <td>0.813077</td>\n",
       "      <td>0.830078</td>\n",
       "      <td>0.787741</td>\n",
       "    </tr>\n",
       "    <tr>\n",
       "      <th>P25</th>\n",
       "      <td>-0.211463</td>\n",
       "      <td>0.609864</td>\n",
       "      <td>0.472057</td>\n",
       "      <td>0.378042</td>\n",
       "      <td>0.358244</td>\n",
       "      <td>0.285547</td>\n",
       "      <td>0.042141</td>\n",
       "      <td>0.485535</td>\n",
       "      <td>0.404787</td>\n",
       "      <td>0.358971</td>\n",
       "      <td>...</td>\n",
       "      <td>0.441980</td>\n",
       "      <td>0.269835</td>\n",
       "      <td>0.760051</td>\n",
       "      <td>0.850616</td>\n",
       "      <td>0.849365</td>\n",
       "      <td>0.765023</td>\n",
       "      <td>0.792694</td>\n",
       "      <td>0.781572</td>\n",
       "      <td>0.870674</td>\n",
       "      <td>0.809613</td>\n",
       "    </tr>\n",
       "    <tr>\n",
       "      <th>P26</th>\n",
       "      <td>-0.228140</td>\n",
       "      <td>0.603779</td>\n",
       "      <td>0.505437</td>\n",
       "      <td>0.409526</td>\n",
       "      <td>0.393404</td>\n",
       "      <td>0.288684</td>\n",
       "      <td>0.052430</td>\n",
       "      <td>0.524207</td>\n",
       "      <td>0.437787</td>\n",
       "      <td>0.396246</td>\n",
       "      <td>...</td>\n",
       "      <td>0.468062</td>\n",
       "      <td>0.308637</td>\n",
       "      <td>0.790324</td>\n",
       "      <td>0.864259</td>\n",
       "      <td>0.859348</td>\n",
       "      <td>0.764947</td>\n",
       "      <td>0.834661</td>\n",
       "      <td>0.817260</td>\n",
       "      <td>0.888330</td>\n",
       "      <td>0.778074</td>\n",
       "    </tr>\n",
       "    <tr>\n",
       "      <th>P27</th>\n",
       "      <td>-0.179750</td>\n",
       "      <td>0.579840</td>\n",
       "      <td>0.280761</td>\n",
       "      <td>0.195660</td>\n",
       "      <td>0.257228</td>\n",
       "      <td>0.109555</td>\n",
       "      <td>0.008393</td>\n",
       "      <td>0.334761</td>\n",
       "      <td>0.279604</td>\n",
       "      <td>0.319507</td>\n",
       "      <td>...</td>\n",
       "      <td>0.230411</td>\n",
       "      <td>0.270460</td>\n",
       "      <td>0.654312</td>\n",
       "      <td>0.675237</td>\n",
       "      <td>0.649870</td>\n",
       "      <td>0.748135</td>\n",
       "      <td>0.661309</td>\n",
       "      <td>0.723519</td>\n",
       "      <td>0.689364</td>\n",
       "      <td>0.805824</td>\n",
       "    </tr>\n",
       "    <tr>\n",
       "      <th>P28</th>\n",
       "      <td>-0.298842</td>\n",
       "      <td>0.111218</td>\n",
       "      <td>0.843738</td>\n",
       "      <td>0.732712</td>\n",
       "      <td>0.643420</td>\n",
       "      <td>0.641971</td>\n",
       "      <td>0.323253</td>\n",
       "      <td>0.729083</td>\n",
       "      <td>0.739868</td>\n",
       "      <td>0.630284</td>\n",
       "      <td>...</td>\n",
       "      <td>1.000000</td>\n",
       "      <td>0.331344</td>\n",
       "      <td>0.438447</td>\n",
       "      <td>0.369772</td>\n",
       "      <td>0.457892</td>\n",
       "      <td>0.264879</td>\n",
       "      <td>0.448928</td>\n",
       "      <td>0.341164</td>\n",
       "      <td>0.454263</td>\n",
       "      <td>0.215078</td>\n",
       "    </tr>\n",
       "    <tr>\n",
       "      <th>P29</th>\n",
       "      <td>0.035497</td>\n",
       "      <td>0.094343</td>\n",
       "      <td>0.586532</td>\n",
       "      <td>0.322511</td>\n",
       "      <td>0.571525</td>\n",
       "      <td>0.452364</td>\n",
       "      <td>0.306904</td>\n",
       "      <td>0.563415</td>\n",
       "      <td>0.584071</td>\n",
       "      <td>0.754736</td>\n",
       "      <td>...</td>\n",
       "      <td>0.331344</td>\n",
       "      <td>1.000000</td>\n",
       "      <td>0.356722</td>\n",
       "      <td>0.371893</td>\n",
       "      <td>0.425120</td>\n",
       "      <td>0.249646</td>\n",
       "      <td>0.490329</td>\n",
       "      <td>0.384401</td>\n",
       "      <td>0.457660</td>\n",
       "      <td>0.296405</td>\n",
       "    </tr>\n",
       "    <tr>\n",
       "      <th>P30</th>\n",
       "      <td>-0.123097</td>\n",
       "      <td>0.539807</td>\n",
       "      <td>0.487589</td>\n",
       "      <td>0.342005</td>\n",
       "      <td>0.473089</td>\n",
       "      <td>0.387747</td>\n",
       "      <td>0.244032</td>\n",
       "      <td>0.460618</td>\n",
       "      <td>0.509213</td>\n",
       "      <td>0.454937</td>\n",
       "      <td>...</td>\n",
       "      <td>0.438447</td>\n",
       "      <td>0.356722</td>\n",
       "      <td>1.000000</td>\n",
       "      <td>0.840158</td>\n",
       "      <td>0.881481</td>\n",
       "      <td>0.790581</td>\n",
       "      <td>0.918200</td>\n",
       "      <td>0.874635</td>\n",
       "      <td>0.904491</td>\n",
       "      <td>0.736656</td>\n",
       "    </tr>\n",
       "    <tr>\n",
       "      <th>P31</th>\n",
       "      <td>-0.204542</td>\n",
       "      <td>0.599333</td>\n",
       "      <td>0.479175</td>\n",
       "      <td>0.353477</td>\n",
       "      <td>0.406701</td>\n",
       "      <td>0.333626</td>\n",
       "      <td>0.112603</td>\n",
       "      <td>0.477593</td>\n",
       "      <td>0.452471</td>\n",
       "      <td>0.420425</td>\n",
       "      <td>...</td>\n",
       "      <td>0.369772</td>\n",
       "      <td>0.371893</td>\n",
       "      <td>0.840158</td>\n",
       "      <td>1.000000</td>\n",
       "      <td>0.934778</td>\n",
       "      <td>0.803785</td>\n",
       "      <td>0.864144</td>\n",
       "      <td>0.823262</td>\n",
       "      <td>0.901940</td>\n",
       "      <td>0.787904</td>\n",
       "    </tr>\n",
       "    <tr>\n",
       "      <th>P32</th>\n",
       "      <td>-0.169750</td>\n",
       "      <td>0.524885</td>\n",
       "      <td>0.552593</td>\n",
       "      <td>0.389376</td>\n",
       "      <td>0.463217</td>\n",
       "      <td>0.440795</td>\n",
       "      <td>0.215568</td>\n",
       "      <td>0.519243</td>\n",
       "      <td>0.531011</td>\n",
       "      <td>0.516617</td>\n",
       "      <td>...</td>\n",
       "      <td>0.457892</td>\n",
       "      <td>0.425120</td>\n",
       "      <td>0.881481</td>\n",
       "      <td>0.934778</td>\n",
       "      <td>1.000000</td>\n",
       "      <td>0.760670</td>\n",
       "      <td>0.930014</td>\n",
       "      <td>0.837858</td>\n",
       "      <td>0.958152</td>\n",
       "      <td>0.758060</td>\n",
       "    </tr>\n",
       "    <tr>\n",
       "      <th>P33</th>\n",
       "      <td>-0.106115</td>\n",
       "      <td>0.700818</td>\n",
       "      <td>0.329795</td>\n",
       "      <td>0.234991</td>\n",
       "      <td>0.312269</td>\n",
       "      <td>0.182820</td>\n",
       "      <td>0.071079</td>\n",
       "      <td>0.300611</td>\n",
       "      <td>0.339178</td>\n",
       "      <td>0.256416</td>\n",
       "      <td>...</td>\n",
       "      <td>0.264879</td>\n",
       "      <td>0.249646</td>\n",
       "      <td>0.790581</td>\n",
       "      <td>0.803785</td>\n",
       "      <td>0.760670</td>\n",
       "      <td>1.000000</td>\n",
       "      <td>0.797647</td>\n",
       "      <td>0.867296</td>\n",
       "      <td>0.816293</td>\n",
       "      <td>0.879400</td>\n",
       "    </tr>\n",
       "    <tr>\n",
       "      <th>P34</th>\n",
       "      <td>-0.117024</td>\n",
       "      <td>0.520788</td>\n",
       "      <td>0.570835</td>\n",
       "      <td>0.394319</td>\n",
       "      <td>0.501575</td>\n",
       "      <td>0.434245</td>\n",
       "      <td>0.243040</td>\n",
       "      <td>0.519635</td>\n",
       "      <td>0.562561</td>\n",
       "      <td>0.524474</td>\n",
       "      <td>...</td>\n",
       "      <td>0.448928</td>\n",
       "      <td>0.490329</td>\n",
       "      <td>0.918200</td>\n",
       "      <td>0.864144</td>\n",
       "      <td>0.930014</td>\n",
       "      <td>0.797647</td>\n",
       "      <td>1.000000</td>\n",
       "      <td>0.917651</td>\n",
       "      <td>0.970234</td>\n",
       "      <td>0.741039</td>\n",
       "    </tr>\n",
       "    <tr>\n",
       "      <th>P35</th>\n",
       "      <td>-0.127973</td>\n",
       "      <td>0.641135</td>\n",
       "      <td>0.449182</td>\n",
       "      <td>0.314798</td>\n",
       "      <td>0.428504</td>\n",
       "      <td>0.277902</td>\n",
       "      <td>0.173309</td>\n",
       "      <td>0.413645</td>\n",
       "      <td>0.457721</td>\n",
       "      <td>0.405709</td>\n",
       "      <td>...</td>\n",
       "      <td>0.341164</td>\n",
       "      <td>0.384401</td>\n",
       "      <td>0.874635</td>\n",
       "      <td>0.823262</td>\n",
       "      <td>0.837858</td>\n",
       "      <td>0.867296</td>\n",
       "      <td>0.917651</td>\n",
       "      <td>1.000000</td>\n",
       "      <td>0.904110</td>\n",
       "      <td>0.797640</td>\n",
       "    </tr>\n",
       "    <tr>\n",
       "      <th>P36</th>\n",
       "      <td>-0.136617</td>\n",
       "      <td>0.574185</td>\n",
       "      <td>0.554951</td>\n",
       "      <td>0.387938</td>\n",
       "      <td>0.484942</td>\n",
       "      <td>0.411664</td>\n",
       "      <td>0.193652</td>\n",
       "      <td>0.524552</td>\n",
       "      <td>0.543563</td>\n",
       "      <td>0.499777</td>\n",
       "      <td>...</td>\n",
       "      <td>0.454263</td>\n",
       "      <td>0.457660</td>\n",
       "      <td>0.904491</td>\n",
       "      <td>0.901940</td>\n",
       "      <td>0.958152</td>\n",
       "      <td>0.816293</td>\n",
       "      <td>0.970234</td>\n",
       "      <td>0.904110</td>\n",
       "      <td>1.000000</td>\n",
       "      <td>0.805416</td>\n",
       "    </tr>\n",
       "    <tr>\n",
       "      <th>P37</th>\n",
       "      <td>-0.089976</td>\n",
       "      <td>0.634963</td>\n",
       "      <td>0.277601</td>\n",
       "      <td>0.161162</td>\n",
       "      <td>0.284065</td>\n",
       "      <td>0.177916</td>\n",
       "      <td>0.033548</td>\n",
       "      <td>0.327594</td>\n",
       "      <td>0.309678</td>\n",
       "      <td>0.308294</td>\n",
       "      <td>...</td>\n",
       "      <td>0.215078</td>\n",
       "      <td>0.296405</td>\n",
       "      <td>0.736656</td>\n",
       "      <td>0.787904</td>\n",
       "      <td>0.758060</td>\n",
       "      <td>0.879400</td>\n",
       "      <td>0.741039</td>\n",
       "      <td>0.797640</td>\n",
       "      <td>0.805416</td>\n",
       "      <td>1.000000</td>\n",
       "    </tr>\n",
       "  </tbody>\n",
       "</table>\n",
       "<p>39 rows × 39 columns</p>\n",
       "</div>"
      ],
      "text/plain": [
       "            0         0        P1        P2        P3        P4        P5  \\\n",
       "0    1.000000 -0.098585 -0.258556 -0.421095 -0.082172 -0.174134  0.019195   \n",
       "0   -0.098585  1.000000  0.198231  0.150700  0.247365  0.057078  0.006765   \n",
       "P1  -0.258556  0.198231  1.000000  0.836671  0.695928  0.677941  0.302820   \n",
       "P2  -0.421095  0.150700  0.836671  1.000000  0.473551  0.540322  0.203003   \n",
       "P3  -0.082172  0.247365  0.695928  0.473551  1.000000  0.443606  0.168891   \n",
       "P4  -0.174134  0.057078  0.677941  0.540322  0.443606  1.000000  0.715406   \n",
       "P5   0.019195  0.006765  0.302820  0.203003  0.168891  0.715406  1.000000   \n",
       "P6  -0.416644  0.127271  0.747296  0.673106  0.570486  0.595724  0.326524   \n",
       "P7  -0.193106  0.212908  0.853753  0.769842  0.651489  0.700482  0.446154   \n",
       "P8  -0.071993  0.123399  0.760820  0.505116  0.689173  0.654594  0.447577   \n",
       "P9  -0.018305  0.162394  0.765743  0.481635  0.741967  0.675336  0.465662   \n",
       "P10  0.001169  0.164508  0.795885  0.498135  0.764191  0.685416  0.462299   \n",
       "P11 -0.120045  0.101524  0.542735  0.442719  0.417752  0.585285  0.435002   \n",
       "P12  0.025473  0.106176  0.708360  0.428065  0.684071  0.595115  0.409181   \n",
       "P13  0.039435  0.149246  0.708896  0.410924  0.697519  0.571611  0.380722   \n",
       "P14 -0.133054  0.544758  0.491638  0.365777  0.393765  0.347917  0.079245   \n",
       "P15 -0.128448  0.630232  0.473155  0.358841  0.379107  0.287313  0.044635   \n",
       "P16 -0.141607  0.596308  0.544892  0.396337  0.471427  0.379619  0.164822   \n",
       "P17 -0.183261  0.551008  0.412963  0.332134  0.327644  0.235605  0.038805   \n",
       "P18 -0.132483  0.629037  0.478503  0.348191  0.425214  0.359393  0.193489   \n",
       "P19 -0.053857  0.201576  0.802494  0.595681  0.648948  0.725829  0.509874   \n",
       "P20 -0.164784  0.258550  0.820953  0.668683  0.682262  0.579561  0.343363   \n",
       "P21 -0.049982  0.224538  0.654138  0.522294  0.559543  0.545285  0.342726   \n",
       "P22 -0.256669  0.147737  0.389116  0.476538  0.243983  0.076177 -0.198689   \n",
       "P23 -0.006419  0.214427  0.702120  0.513936  0.602325  0.559099  0.354058   \n",
       "P24 -0.237349  0.617804  0.425720  0.354225  0.337895  0.213535  0.020124   \n",
       "P25 -0.211463  0.609864  0.472057  0.378042  0.358244  0.285547  0.042141   \n",
       "P26 -0.228140  0.603779  0.505437  0.409526  0.393404  0.288684  0.052430   \n",
       "P27 -0.179750  0.579840  0.280761  0.195660  0.257228  0.109555  0.008393   \n",
       "P28 -0.298842  0.111218  0.843738  0.732712  0.643420  0.641971  0.323253   \n",
       "P29  0.035497  0.094343  0.586532  0.322511  0.571525  0.452364  0.306904   \n",
       "P30 -0.123097  0.539807  0.487589  0.342005  0.473089  0.387747  0.244032   \n",
       "P31 -0.204542  0.599333  0.479175  0.353477  0.406701  0.333626  0.112603   \n",
       "P32 -0.169750  0.524885  0.552593  0.389376  0.463217  0.440795  0.215568   \n",
       "P33 -0.106115  0.700818  0.329795  0.234991  0.312269  0.182820  0.071079   \n",
       "P34 -0.117024  0.520788  0.570835  0.394319  0.501575  0.434245  0.243040   \n",
       "P35 -0.127973  0.641135  0.449182  0.314798  0.428504  0.277902  0.173309   \n",
       "P36 -0.136617  0.574185  0.554951  0.387938  0.484942  0.411664  0.193652   \n",
       "P37 -0.089976  0.634963  0.277601  0.161162  0.284065  0.177916  0.033548   \n",
       "\n",
       "           P6        P7        P8  ...       P28       P29       P30  \\\n",
       "0   -0.416644 -0.193106 -0.071993  ... -0.298842  0.035497 -0.123097   \n",
       "0    0.127271  0.212908  0.123399  ...  0.111218  0.094343  0.539807   \n",
       "P1   0.747296  0.853753  0.760820  ...  0.843738  0.586532  0.487589   \n",
       "P2   0.673106  0.769842  0.505116  ...  0.732712  0.322511  0.342005   \n",
       "P3   0.570486  0.651489  0.689173  ...  0.643420  0.571525  0.473089   \n",
       "P4   0.595724  0.700482  0.654594  ...  0.641971  0.452364  0.387747   \n",
       "P5   0.326524  0.446154  0.447577  ...  0.323253  0.306904  0.244032   \n",
       "P6   1.000000  0.738388  0.720144  ...  0.729083  0.563415  0.460618   \n",
       "P7   0.738388  1.000000  0.751196  ...  0.739868  0.584071  0.509213   \n",
       "P8   0.720144  0.751196  1.000000  ...  0.630284  0.754736  0.454937   \n",
       "P9   0.676323  0.775003  0.919956  ...  0.635144  0.789784  0.502670   \n",
       "P10  0.654594  0.775642  0.881650  ...  0.669822  0.789510  0.514738   \n",
       "P11  0.432959  0.503903  0.230823  ...  0.602499  0.292211  0.410573   \n",
       "P12  0.637594  0.733115  0.889829  ...  0.559921  0.797455  0.433005   \n",
       "P13  0.558621  0.702162  0.810365  ...  0.576252  0.740722  0.466337   \n",
       "P14  0.422343  0.457255  0.351134  ...  0.446060  0.304980  0.812712   \n",
       "P15  0.426646  0.429170  0.303275  ...  0.407208  0.299711  0.743738   \n",
       "P16  0.520707  0.529988  0.456162  ...  0.455373  0.425590  0.869697   \n",
       "P17  0.380396  0.365565  0.294639  ...  0.345635  0.224734  0.739895   \n",
       "P18  0.453924  0.496990  0.430591  ...  0.369350  0.420248  0.836870   \n",
       "P19  0.530297  0.758294  0.667079  ...  0.765656  0.417782  0.466695   \n",
       "P20  0.664487  0.793642  0.612958  ...  0.786129  0.505358  0.593911   \n",
       "P21  0.427613  0.604106  0.420807  ...  0.729631  0.267466  0.482010   \n",
       "P22  0.206913  0.270211  0.045803  ...  0.484167 -0.148172  0.170901   \n",
       "P23  0.486043  0.651876  0.512021  ...  0.718784  0.393031  0.475536   \n",
       "P24  0.461674  0.375711  0.323116  ...  0.401039  0.247974  0.732452   \n",
       "P25  0.485535  0.404787  0.358971  ...  0.441980  0.269835  0.760051   \n",
       "P26  0.524207  0.437787  0.396246  ...  0.468062  0.308637  0.790324   \n",
       "P27  0.334761  0.279604  0.319507  ...  0.230411  0.270460  0.654312   \n",
       "P28  0.729083  0.739868  0.630284  ...  1.000000  0.331344  0.438447   \n",
       "P29  0.563415  0.584071  0.754736  ...  0.331344  1.000000  0.356722   \n",
       "P30  0.460618  0.509213  0.454937  ...  0.438447  0.356722  1.000000   \n",
       "P31  0.477593  0.452471  0.420425  ...  0.369772  0.371893  0.840158   \n",
       "P32  0.519243  0.531011  0.516617  ...  0.457892  0.425120  0.881481   \n",
       "P33  0.300611  0.339178  0.256416  ...  0.264879  0.249646  0.790581   \n",
       "P34  0.519635  0.562561  0.524474  ...  0.448928  0.490329  0.918200   \n",
       "P35  0.413645  0.457721  0.405709  ...  0.341164  0.384401  0.874635   \n",
       "P36  0.524552  0.543563  0.499777  ...  0.454263  0.457660  0.904491   \n",
       "P37  0.327594  0.309678  0.308294  ...  0.215078  0.296405  0.736656   \n",
       "\n",
       "          P31       P32       P33       P34       P35       P36       P37  \n",
       "0   -0.204542 -0.169750 -0.106115 -0.117024 -0.127973 -0.136617 -0.089976  \n",
       "0    0.599333  0.524885  0.700818  0.520788  0.641135  0.574185  0.634963  \n",
       "P1   0.479175  0.552593  0.329795  0.570835  0.449182  0.554951  0.277601  \n",
       "P2   0.353477  0.389376  0.234991  0.394319  0.314798  0.387938  0.161162  \n",
       "P3   0.406701  0.463217  0.312269  0.501575  0.428504  0.484942  0.284065  \n",
       "P4   0.333626  0.440795  0.182820  0.434245  0.277902  0.411664  0.177916  \n",
       "P5   0.112603  0.215568  0.071079  0.243040  0.173309  0.193652  0.033548  \n",
       "P6   0.477593  0.519243  0.300611  0.519635  0.413645  0.524552  0.327594  \n",
       "P7   0.452471  0.531011  0.339178  0.562561  0.457721  0.543563  0.309678  \n",
       "P8   0.420425  0.516617  0.256416  0.524474  0.405709  0.499777  0.308294  \n",
       "P9   0.467334  0.544749  0.326869  0.582042  0.467916  0.551953  0.330927  \n",
       "P10  0.462235  0.549238  0.320317  0.601956  0.483010  0.565068  0.313748  \n",
       "P11  0.300331  0.358379  0.244698  0.401866  0.291108  0.383485  0.158579  \n",
       "P12  0.403691  0.471691  0.281619  0.519051  0.426274  0.491803  0.304963  \n",
       "P13  0.425461  0.499431  0.302684  0.555712  0.457633  0.520219  0.295972  \n",
       "P14  0.795637  0.840592  0.801055  0.853824  0.815550  0.892459  0.776719  \n",
       "P15  0.798711  0.797193  0.806085  0.813125  0.819329  0.890441  0.768268  \n",
       "P16  0.899675  0.928434  0.823748  0.941628  0.899202  0.981550  0.801029  \n",
       "P17  0.770449  0.772197  0.716934  0.735778  0.781719  0.812184  0.726738  \n",
       "P18  0.900439  0.915038  0.861861  0.926000  0.916872  0.952266  0.833428  \n",
       "P19  0.369915  0.437442  0.298000  0.453496  0.346822  0.425475  0.226764  \n",
       "P20  0.505542  0.567801  0.420983  0.610553  0.529064  0.587118  0.326929  \n",
       "P21  0.429568  0.481878  0.373014  0.525638  0.437753  0.501181  0.273409  \n",
       "P22  0.181702  0.169877  0.178341  0.143249  0.156648  0.165467  0.108030  \n",
       "P23  0.367508  0.433061  0.316115  0.470396  0.399514  0.448681  0.216329  \n",
       "P24  0.823207  0.787841  0.770173  0.763692  0.813077  0.830078  0.787741  \n",
       "P25  0.850616  0.849365  0.765023  0.792694  0.781572  0.870674  0.809613  \n",
       "P26  0.864259  0.859348  0.764947  0.834661  0.817260  0.888330  0.778074  \n",
       "P27  0.675237  0.649870  0.748135  0.661309  0.723519  0.689364  0.805824  \n",
       "P28  0.369772  0.457892  0.264879  0.448928  0.341164  0.454263  0.215078  \n",
       "P29  0.371893  0.425120  0.249646  0.490329  0.384401  0.457660  0.296405  \n",
       "P30  0.840158  0.881481  0.790581  0.918200  0.874635  0.904491  0.736656  \n",
       "P31  1.000000  0.934778  0.803785  0.864144  0.823262  0.901940  0.787904  \n",
       "P32  0.934778  1.000000  0.760670  0.930014  0.837858  0.958152  0.758060  \n",
       "P33  0.803785  0.760670  1.000000  0.797647  0.867296  0.816293  0.879400  \n",
       "P34  0.864144  0.930014  0.797647  1.000000  0.917651  0.970234  0.741039  \n",
       "P35  0.823262  0.837858  0.867296  0.917651  1.000000  0.904110  0.797640  \n",
       "P36  0.901940  0.958152  0.816293  0.970234  0.904110  1.000000  0.805416  \n",
       "P37  0.787904  0.758060  0.879400  0.741039  0.797640  0.805416  1.000000  \n",
       "\n",
       "[39 rows x 39 columns]"
      ]
     },
     "execution_count": 133,
     "metadata": {},
     "output_type": "execute_result"
    }
   ],
   "source": [
    "X.corr()"
   ]
  },
  {
   "cell_type": "code",
   "execution_count": 134,
   "id": "cdb6d76f-7496-4e5f-84f0-6ace4f264828",
   "metadata": {},
   "outputs": [
    {
     "data": {
      "text/plain": [
       "array([[4621680.19405752]])"
      ]
     },
     "execution_count": 134,
     "metadata": {},
     "output_type": "execute_result"
    }
   ],
   "source": [
    "pred"
   ]
  },
  {
   "cell_type": "code",
   "execution_count": 135,
   "id": "9b27351f-ede1-4a18-be0f-e79e1242802d",
   "metadata": {},
   "outputs": [
    {
     "data": {
      "text/plain": [
       "<AxesSubplot:>"
      ]
     },
     "execution_count": 135,
     "metadata": {},
     "output_type": "execute_result"
    },
    {
     "data": {
      "image/png": "[encoded data removed]",
      "text/plain": [
       "<Figure size 432x288 with 1 Axes>"
      ]
     },
     "metadata": {
      "needs_background": "light"
     },
     "output_type": "display_data"
    }
   ],
   "source": [
    "df['Type'].hist(bins=20)"
   ]
  },
  {
   "cell_type": "code",
   "execution_count": 136,
   "id": "cf3eb532-0456-4ab6-ba8a-7080b1d7da67",
   "metadata": {},
   "outputs": [
    {
     "data": {
      "text/plain": [
       "<AxesSubplot:>"
      ]
     },
     "execution_count": 136,
     "metadata": {},
     "output_type": "execute_result"
    },
    {
     "data": {
      "image/png": "[encoded data removed]",
      "text/plain": [
       "<Figure size 432x288 with 1 Axes>"
      ]
     },
     "metadata": {
      "needs_background": "light"
     },
     "output_type": "display_data"
    }
   ],
   "source": [
    "df['City'].hist(bins=20)"
   ]
  },
  {
   "cell_type": "code",
   "execution_count": 137,
   "id": "97992870-a568-46d4-a164-afbcd70924e3",
   "metadata": {
    "collapsed": true,
    "jupyter": {
     "outputs_hidden": true
    },
    "tags": []
   },
   "outputs": [
    {
     "data": {
      "image/png": "[encoded data removed]",
      "text/plain": [
       "<Figure size 432x288 with 1 Axes>"
      ]
     },
     "metadata": {
      "needs_background": "light"
     },
     "output_type": "display_data"
    },
    {
     "data": {
      "image/png": "[encoded data removed]",
      "text/plain": [
       "<Figure size 432x288 with 1 Axes>"
      ]
     },
     "metadata": {
      "needs_background": "light"
     },
     "output_type": "display_data"
    },
    {
     "data": {
      "image/png": "[encoded data removed]",
      "text/plain": [
       "<Figure size 432x288 with 1 Axes>"
      ]
     },
     "metadata": {
      "needs_background": "light"
     },
     "output_type": "display_data"
    },
    {
     "data": {
      "image/png": "[encoded data removed]",
      "text/plain": [
       "<Figure size 432x288 with 1 Axes>"
      ]
     },
     "metadata": {
      "needs_background": "light"
     },
     "output_type": "display_data"
    },
    {
     "data": {
      "image/png": "[encoded data removed]",
      "text/plain": [
       "<Figure size 432x288 with 1 Axes>"
      ]
     },
     "metadata": {
      "needs_background": "light"
     },
     "output_type": "display_data"
    },
    {
     "data": {
      "image/png": "[encoded data removed]",
      "text/plain": [
       "<Figure size 432x288 with 1 Axes>"
      ]
     },
     "metadata": {
      "needs_background": "light"
     },
     "output_type": "display_data"
    },
    {
     "data": {
      "image/png": "[encoded data removed]",
      "text/plain": [
       "<Figure size 432x288 with 1 Axes>"
      ]
     },
     "metadata": {
      "needs_background": "light"
     },
     "output_type": "display_data"
    },
    {
     "data": {
      "image/png": "[encoded data removed]",
      "text/plain": [
       "<Figure size 432x288 with 1 Axes>"
      ]
     },
     "metadata": {
      "needs_background": "light"
     },
     "output_type": "display_data"
    },
    {
     "data": {
      "image/png": "[encoded data removed]",
      "text/plain": [
       "<Figure size 432x288 with 1 Axes>"
      ]
     },
     "metadata": {
      "needs_background": "light"
     },
     "output_type": "display_data"
    },
    {
     "data": {
      "image/png": "[encoded data removed]",
      "text/plain": [
       "<Figure size 432x288 with 1 Axes>"
      ]
     },
     "metadata": {
      "needs_background": "light"
     },
     "output_type": "display_data"
    },
    {
     "data": {
      "image/png": "[encoded data removed]",
      "text/plain": [
       "<Figure size 432x288 with 1 Axes>"
      ]
     },
     "metadata": {
      "needs_background": "light"
     },
     "output_type": "display_data"
    },
    {
     "data": {
      "image/png": "[encoded data removed]",
      "text/plain": [
       "<Figure size 432x288 with 1 Axes>"
      ]
     },
     "metadata": {
      "needs_background": "light"
     },
     "output_type": "display_data"
    },
    {
     "data": {
      "image/png": "[encoded data removed]",
      "text/plain": [
       "<Figure size 432x288 with 1 Axes>"
      ]
     },
     "metadata": {
      "needs_background": "light"
     },
     "output_type": "display_data"
    },
    {
     "data": {
      "image/png": "[encoded data removed]",
      "text/plain": [
       "<Figure size 432x288 with 1 Axes>"
      ]
     },
     "metadata": {
      "needs_background": "light"
     },
     "output_type": "display_data"
    },
    {
     "data": {
      "image/png": "[encoded data removed]",
      "text/plain": [
       "<Figure size 432x288 with 1 Axes>"
      ]
     },
     "metadata": {
      "needs_background": "light"
     },
     "output_type": "display_data"
    },
    {
     "data": {
      "image/png": "[encoded data removed]",
      "text/plain": [
       "<Figure size 432x288 with 1 Axes>"
      ]
     },
     "metadata": {
      "needs_background": "light"
     },
     "output_type": "display_data"
    },
    {
     "data": {
      "image/png": "[encoded data removed]",
      "text/plain": [
       "<Figure size 432x288 with 1 Axes>"
      ]
     },
     "metadata": {
      "needs_background": "light"
     },
     "output_type": "display_data"
    },
    {
     "data": {
      "image/png": "[encoded data removed]",
      "text/plain": [
       "<Figure size 432x288 with 1 Axes>"
      ]
     },
     "metadata": {
      "needs_background": "light"
     },
     "output_type": "display_data"
    },
    {
     "data": {
      "image/png": "[encoded data removed]",
      "text/plain": [
       "<Figure size 432x288 with 1 Axes>"
      ]
     },
     "metadata": {
      "needs_background": "light"
     },
     "output_type": "display_data"
    },
    {
     "data": {
      "image/png": "[encoded data removed]",
      "text/plain": [
       "<Figure size 432x288 with 1 Axes>"
      ]
     },
     "metadata": {
      "needs_background": "light"
     },
     "output_type": "display_data"
    },
    {
     "data": {
      "image/png": "[encoded data removed]",
      "text/plain": [
       "<Figure size 432x288 with 1 Axes>"
      ]
     },
     "metadata": {
      "needs_background": "light"
     },
     "output_type": "display_data"
    },
    {
     "data": {
      "image/png": "[encoded data removed]",
      "text/plain": [
       "<Figure size 432x288 with 1 Axes>"
      ]
     },
     "metadata": {
      "needs_background": "light"
     },
     "output_type": "display_data"
    },
    {
     "data": {
      "image/png": "[encoded data removed]",
      "text/plain": [
       "<Figure size 432x288 with 1 Axes>"
      ]
     },
     "metadata": {
      "needs_background": "light"
     },
     "output_type": "display_data"
    },
    {
     "data": {
      "image/png": "[encoded data removed]",
      "text/plain": [
       "<Figure size 432x288 with 1 Axes>"
      ]
     },
     "metadata": {
      "needs_background": "light"
     },
     "output_type": "display_data"
    },
    {
     "data": {
      "image/png": "[encoded data removed]",
      "text/plain": [
       "<Figure size 432x288 with 1 Axes>"
      ]
     },
     "metadata": {
      "needs_background": "light"
     },
     "output_type": "display_data"
    },
    {
     "data": {
      "image/png": "[encoded data removed]",
      "text/plain": [
       "<Figure size 432x288 with 1 Axes>"
      ]
     },
     "metadata": {
      "needs_background": "light"
     },
     "output_type": "display_data"
    },
    {
     "data": {
      "image/png": "[encoded data removed]",
      "text/plain": [
       "<Figure size 432x288 with 1 Axes>"
      ]
     },
     "metadata": {
      "needs_background": "light"
     },
     "output_type": "display_data"
    },
    {
     "data": {
      "image/png": "[encoded data removed]",
      "text/plain": [
       "<Figure size 432x288 with 1 Axes>"
      ]
     },
     "metadata": {
      "needs_background": "light"
     },
     "output_type": "display_data"
    },
    {
     "data": {
      "image/png": "[encoded data removed]",
      "text/plain": [
       "<Figure size 432x288 with 1 Axes>"
      ]
     },
     "metadata": {
      "needs_background": "light"
     },
     "output_type": "display_data"
    },
    {
     "data": {
      "image/png": "[encoded data removed]",
      "text/plain": [
       "<Figure size 432x288 with 1 Axes>"
      ]
     },
     "metadata": {
      "needs_background": "light"
     },
     "output_type": "display_data"
    },
    {
     "data": {
      "image/png": "[encoded data removed]",
      "text/plain": [
       "<Figure size 432x288 with 1 Axes>"
      ]
     },
     "metadata": {
      "needs_background": "light"
     },
     "output_type": "display_data"
    },
    {
     "data": {
      "image/png": "[encoded data removed]",
      "text/plain": [
       "<Figure size 432x288 with 1 Axes>"
      ]
     },
     "metadata": {
      "needs_background": "light"
     },
     "output_type": "display_data"
    },
    {
     "data": {
      "image/png": "[encoded data removed]",
      "text/plain": [
       "<Figure size 432x288 with 1 Axes>"
      ]
     },
     "metadata": {
      "needs_background": "light"
     },
     "output_type": "display_data"
    },
    {
     "data": {
      "image/png": "[encoded data removed]",
      "text/plain": [
       "<Figure size 432x288 with 1 Axes>"
      ]
     },
     "metadata": {
      "needs_background": "light"
     },
     "output_type": "display_data"
    },
    {
     "data": {
      "image/png": "[encoded data removed]",
      "text/plain": [
       "<Figure size 432x288 with 1 Axes>"
      ]
     },
     "metadata": {
      "needs_background": "light"
     },
     "output_type": "display_data"
    },
    {
     "data": {
      "image/png": "[encoded data removed]",
      "text/plain": [
       "<Figure size 432x288 with 1 Axes>"
      ]
     },
     "metadata": {
      "needs_background": "light"
     },
     "output_type": "display_data"
    },
    {
     "data": {
      "image/png": "[encoded data removed]",
      "text/plain": [
       "<Figure size 432x288 with 1 Axes>"
      ]
     },
     "metadata": {
      "needs_background": "light"
     },
     "output_type": "display_data"
    }
   ],
   "source": [
    "for i in df.columns[5:-1]:\n",
    "    df[i].hist(bins=20)\n",
    "    plt.title(i)\n",
    "    plt.show()"
   ]
  },
  {
   "cell_type": "code",
   "execution_count": 138,
   "id": "493b4da0-ad0d-4e82-ae06-b624c827e813",
   "metadata": {},
   "outputs": [
    {
     "data": {
      "text/plain": [
       "<AxesSubplot:>"
      ]
     },
     "execution_count": 138,
     "metadata": {},
     "output_type": "execute_result"
    },
    {
     "data": {
      "image/png": "[encoded data removed]",
      "text/plain": [
       "<Figure size 432x288 with 1 Axes>"
      ]
     },
     "metadata": {
      "needs_background": "light"
     },
     "output_type": "display_data"
    }
   ],
   "source": [
    "df['revenue'].hist(bins=20)"
   ]
  },
  {
   "cell_type": "code",
   "execution_count": 139,
   "id": "e97ffedf-aaa1-4669-9c90-c23a5ddaadad",
   "metadata": {},
   "outputs": [
    {
     "data": {
      "text/plain": [
       "<AxesSubplot:>"
      ]
     },
     "execution_count": 139,
     "metadata": {},
     "output_type": "execute_result"
    },
    {
     "data": {
      "image/png": "[encoded data removed]",
      "text/plain": [
       "<Figure size 432x288 with 1 Axes>"
      ]
     },
     "metadata": {
      "needs_background": "light"
     },
     "output_type": "display_data"
    }
   ],
   "source": [
    "df['City Group'].hist(bins=20)"
   ]
  },
  {
   "cell_type": "markdown",
   "id": "405b9907-d2e4-4701-ac32-d072ec9aa810",
   "metadata": {},
   "source": [
    "# GUI"
   ]
  },
  {
   "cell_type": "code",
   "execution_count": 140,
   "id": "0e4bd0e0-5b5a-442b-a170-a07a4dbdaff6",
   "metadata": {},
   "outputs": [],
   "source": [
    "import tkinter as tk"
   ]
  },
  {
   "cell_type": "code",
   "execution_count": 142,
   "id": "1728228b-29e0-4e38-8055-6b2493bfb5a1",
   "metadata": {},
   "outputs": [],
   "source": [
    "app = tk.Tk()\n",
    "app.title('Revenue Predictor')\n",
    "app.geometry('450x350')\n",
    "app.configure(bg='blue')\n",
    "\n",
    "\n",
    "\n",
    "\n",
    "\n",
    " = tk.Variable(app)\n",
    "house_age = tk.Variable(app)\n",
    "rooms = tk.Variable(app)\n",
    "population= tk.Variable(app)\n",
    "\n",
    "\n",
    "\n",
    "tk.Label(app, text='Price Predictor',fg='white',bg='black',font=('Times New Roman', 25, 'bold')).place(x=120,y=10)\n",
    "\n",
    "tk.Label(app, text='Income',font=('Roboto Slab', 10, 'bold')).place(x=20,y=65)\n",
    "tk.Label(app, text='House Age',font=('Roboto Slab', 10, 'bold')).place(x=20,y=115)\n",
    "tk.Label(app, text='Number of rooms',font=('Roboto Slab', 10, 'bold')).place(x=20,y=165)\n",
    "tk.Label(app, text='Population',font=('Roboto Slab', 10, 'bold')).place(x=20,y=215)\n",
    "\n",
    "\n",
    "\n",
    "tk.Entry(app,width=30,bg='#f5ffff',font=('Roboto Slab', 10),textvariable=income).place(x=150,y=65)\n",
    "tk.Entry(app,width=30,bg='#f5ffff',font=('Roboto Slab', 10),textvariable=house_age).place(x=150,y=115)\n",
    "tk.Entry(app,width=30,bg='#f5ffff',font=('Roboto Slab', 10),textvariable=rooms).place(x=150,y=165)\n",
    "tk.Entry(app,width=30,bg='#f5ffff',font=('Roboto Slab', 10),textvariable=population).place(x=150,y=215)\n",
    "\n",
    "def values():\n",
    "    \n",
    "    i=income.get()\n",
    "    h=house_age.get()\n",
    "    r=rooms.get()\n",
    "    p=population.get()\n",
    "    \n",
    "    income.set('')\n",
    "    house_age.set('')\n",
    "    rooms.set('')\n",
    "    population.set('')\n",
    "    \n",
    "    query=pd.DataFrame({'Avg. Area Income':[i],'Avg. Area House Age':[h],'Avg. Area Number of Rooms':[r],'Area Population':[p]})\n",
    "\n",
    "    values_var=tk.Variable(app)\n",
    "\n",
    "    values_var.set('%.1f$'%(model.predict(query)[0]))\n",
    "\n",
    "    values=tk.Label(app, text='Price can be :',bg='yellow',font=('Roboto Slab', 10, 'bold')).place(x=40,y=315)\n",
    "    \n",
    "    values=tk.Label(app, text='Price can be :',textvariable=values_var,bg='yellow',font=('Roboto Slab', 10, 'bold')).place(x=130,y=315)\n",
    "\n",
    "    \n",
    "tk.Button(app, text='  Predict  ',bg='red',foreground='white',font=('Roboto Slab', 12, 'bold'),command=values).place(x=150,y=265)\n",
    "\n",
    "\n",
    "app.mainloop()"
   ]
  },
  {
   "cell_type": "code",
   "execution_count": null,
   "id": "ea792e74-ff03-4830-b8a9-3a818c3e1e8c",
   "metadata": {},
   "outputs": [],
   "source": []
  },
  {
   "cell_type": "code",
   "execution_count": null,
   "id": "f8dacab6-e15f-4ea1-95d2-11f6f337cbad",
   "metadata": {},
   "outputs": [],
   "source": []
  },
  {
   "cell_type": "code",
   "execution_count": null,
   "id": "9df3568e-5e68-4729-9415-90dd5876226b",
   "metadata": {},
   "outputs": [],
   "source": []
  },
  {
   "cell_type": "code",
   "execution_count": null,
   "id": "8bb8fc13-d50a-4978-89ab-2472d71e0274",
   "metadata": {},
   "outputs": [],
   "source": []
  },
  {
   "cell_type": "code",
   "execution_count": null,
   "id": "109f5ba9-1c02-4d71-9f72-e5ac816901c5",
   "metadata": {},
   "outputs": [],
   "source": []
  },
  {
   "cell_type": "code",
   "execution_count": null,
   "id": "a5683dda-1306-4851-a3a0-4ec9886f1285",
   "metadata": {},
   "outputs": [],
   "source": []
  },
  {
   "cell_type": "code",
   "execution_count": null,
   "id": "01146235-6eb0-4086-af14-9b98e74c5f0c",
   "metadata": {},
   "outputs": [],
   "source": []
  }
 ],
 "metadata": {
  "kernelspec": {
   "display_name": "Python 3",
   "language": "python",
   "name": "python3"
  },
  "language_info": {
   "codemirror_mode": {
    "name": "ipython",
    "version": 3
   },
   "file_extension": ".py",
   "mimetype": "text/x-python",
   "name": "python",
   "nbconvert_exporter": "python",
   "pygments_lexer": "ipython3",
   "version": "3.8.8"
  }
 },
 "nbformat": 4,
 "nbformat_minor": 5
}
