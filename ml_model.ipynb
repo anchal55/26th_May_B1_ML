{
 "cells": [
  {
   "cell_type": "code",
   "execution_count": 1,
   "id": "3020f0be-3f10-4918-b1b4-06176c38de47",
   "metadata": {},
   "outputs": [],
   "source": [
    "import pandas as pd"
   ]
  },
  {
   "cell_type": "code",
   "execution_count": 2,
   "id": "04067d68-5391-4140-921c-b33b13dba9d7",
   "metadata": {},
   "outputs": [],
   "source": [
    "model =pd.read_pickle('HousePricePredictor')"
   ]
  },
  {
   "cell_type": "code",
   "execution_count": 3,
   "id": "ea031c94-9233-4cef-b296-aa5135cf7c03",
   "metadata": {},
   "outputs": [
    {
     "data": {
      "text/plain": [
       "LinearRegression()"
      ]
     },
     "execution_count": 3,
     "metadata": {},
     "output_type": "execute_result"
    }
   ],
   "source": [
    "model"
   ]
  },
  {
   "cell_type": "code",
   "execution_count": 4,
   "id": "36b28f3a-bca1-4d59-8d54-6caf950701c2",
   "metadata": {},
   "outputs": [],
   "source": [
    "cols=['Avg. Area Income', 'Avg. Area House Age', 'Avg. Area Number of Rooms','Area Population']"
   ]
  },
  {
   "cell_type": "code",
   "execution_count": null,
   "id": "eecd2d94-6765-4657-9f1a-9ea9fe2d91f7",
   "metadata": {},
   "outputs": [],
   "source": [
    "income=eval(input('enter the income:'))\n",
    "house_age=eval(input('enter the house age:'))\n",
    "rooms=eval(input('enter the number of rooms:'))\n",
    "population=eval(input('enter the population:'))\n",
    "query =pd.DataFrame({'Avg. Area Income':[income],'Avg. Area House Age':[house_age],'Avg. Area Number of Rooms':[rooms],'Area Population':[population]})\n"
   ]
  },
  {
   "cell_type": "code",
   "execution_count": null,
   "id": "fbe0f2d1-2fee-4907-ad9c-b28394321050",
   "metadata": {},
   "outputs": [],
   "source": [
    "query"
   ]
  },
  {
   "cell_type": "code",
   "execution_count": null,
   "id": "c54dc8b9-49c5-4d2d-9b7d-6185dd035c1d",
   "metadata": {},
   "outputs": [],
   "source": [
    "model.predict(query)"
   ]
  },
  {
   "cell_type": "code",
   "execution_count": null,
   "id": "4524b31e-f625-4c51-ad87-458a4ebccb94",
   "metadata": {},
   "outputs": [],
   "source": [
    "print('Price for the house can be :  %.1f$'%(model.predict(query)[0]))"
   ]
  }
 ],
 "metadata": {
  "kernelspec": {
   "display_name": "Python 3",
   "language": "python",
   "name": "python3"
  },
  "language_info": {
   "codemirror_mode": {
    "name": "ipython",
    "version": 3
   },
   "file_extension": ".py",
   "mimetype": "text/x-python",
   "name": "python",
   "nbconvert_exporter": "python",
   "pygments_lexer": "ipython3",
   "version": "3.8.8"
  }
 },
 "nbformat": 4,
 "nbformat_minor": 5
}
