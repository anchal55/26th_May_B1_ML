{
 "cells": [
  {
   "cell_type": "code",
   "execution_count": 6,
   "id": "544417d2-77eb-46d0-87f5-66698a2c322a",
   "metadata": {},
   "outputs": [],
   "source": [
    "import numpy as np \n",
    "import pandas as pd \n",
    "import matplotlib.pyplot as plt\n",
    "import seaborn as sns\n",
    "from subprocess import check_output\n",
    "import warnings\n",
    "warnings.filterwarnings(\"ignore\")"
   ]
  },
  {
   "cell_type": "code",
   "execution_count": 7,
   "id": "02bc8eee-bf61-43f1-8a2e-adceb6a70928",
   "metadata": {},
   "outputs": [
    {
     "data": {
      "text/html": [
       "<div>\n",
       "<style scoped>\n",
       "    .dataframe tbody tr th:only-of-type {\n",
       "        vertical-align: middle;\n",
       "    }\n",
       "\n",
       "    .dataframe tbody tr th {\n",
       "        vertical-align: top;\n",
       "    }\n",
       "\n",
       "    .dataframe thead th {\n",
       "        text-align: right;\n",
       "    }\n",
       "</style>\n",
       "<table border=\"1\" class=\"dataframe\">\n",
       "  <thead>\n",
       "    <tr style=\"text-align: right;\">\n",
       "      <th></th>\n",
       "      <th>Date</th>\n",
       "      <th>Open</th>\n",
       "      <th>High</th>\n",
       "      <th>Low</th>\n",
       "      <th>Close</th>\n",
       "      <th>Volume</th>\n",
       "      <th>OpenInt</th>\n",
       "      <th>Stock</th>\n",
       "    </tr>\n",
       "  </thead>\n",
       "  <tbody>\n",
       "    <tr>\n",
       "      <th>0</th>\n",
       "      <td>1984-09-07</td>\n",
       "      <td>0.42388</td>\n",
       "      <td>0.42902</td>\n",
       "      <td>0.41874</td>\n",
       "      <td>0.42388</td>\n",
       "      <td>23220030</td>\n",
       "      <td>0</td>\n",
       "      <td>AAPL</td>\n",
       "    </tr>\n",
       "    <tr>\n",
       "      <th>1</th>\n",
       "      <td>1984-09-10</td>\n",
       "      <td>0.42388</td>\n",
       "      <td>0.42516</td>\n",
       "      <td>0.41366</td>\n",
       "      <td>0.42134</td>\n",
       "      <td>18022532</td>\n",
       "      <td>0</td>\n",
       "      <td>AAPL</td>\n",
       "    </tr>\n",
       "    <tr>\n",
       "      <th>2</th>\n",
       "      <td>1984-09-11</td>\n",
       "      <td>0.42516</td>\n",
       "      <td>0.43668</td>\n",
       "      <td>0.42516</td>\n",
       "      <td>0.42902</td>\n",
       "      <td>42498199</td>\n",
       "      <td>0</td>\n",
       "      <td>AAPL</td>\n",
       "    </tr>\n",
       "    <tr>\n",
       "      <th>3</th>\n",
       "      <td>1984-09-12</td>\n",
       "      <td>0.42902</td>\n",
       "      <td>0.43157</td>\n",
       "      <td>0.41618</td>\n",
       "      <td>0.41618</td>\n",
       "      <td>37125801</td>\n",
       "      <td>0</td>\n",
       "      <td>AAPL</td>\n",
       "    </tr>\n",
       "    <tr>\n",
       "      <th>4</th>\n",
       "      <td>1984-09-13</td>\n",
       "      <td>0.43927</td>\n",
       "      <td>0.44052</td>\n",
       "      <td>0.43927</td>\n",
       "      <td>0.43927</td>\n",
       "      <td>57822062</td>\n",
       "      <td>0</td>\n",
       "      <td>AAPL</td>\n",
       "    </tr>\n",
       "  </tbody>\n",
       "</table>\n",
       "</div>"
      ],
      "text/plain": [
       "         Date     Open     High      Low    Close    Volume  OpenInt Stock\n",
       "0  1984-09-07  0.42388  0.42902  0.41874  0.42388  23220030        0  AAPL\n",
       "1  1984-09-10  0.42388  0.42516  0.41366  0.42134  18022532        0  AAPL\n",
       "2  1984-09-11  0.42516  0.43668  0.42516  0.42902  42498199        0  AAPL\n",
       "3  1984-09-12  0.42902  0.43157  0.41618  0.41618  37125801        0  AAPL\n",
       "4  1984-09-13  0.43927  0.44052  0.43927  0.43927  57822062        0  AAPL"
      ]
     },
     "execution_count": 7,
     "metadata": {},
     "output_type": "execute_result"
    }
   ],
   "source": [
    "df = pd.read_csv('stock.csv')\n",
    "df.head()"
   ]
  },
  {
   "cell_type": "code",
   "execution_count": 8,
   "id": "b4e8417f-8a97-4963-b079-369c0fc32623",
   "metadata": {},
   "outputs": [
    {
     "data": {
      "text/plain": [
       "(19586, 8)"
      ]
     },
     "execution_count": 8,
     "metadata": {},
     "output_type": "execute_result"
    }
   ],
   "source": [
    "df.shape"
   ]
  },
  {
   "cell_type": "code",
   "execution_count": 9,
   "id": "86a2fc9a-6d24-4708-87c4-dfe950ab390f",
   "metadata": {},
   "outputs": [
    {
     "data": {
      "text/plain": [
       "['Date', 'Open', 'High', 'Low', 'Close', 'Volume', 'OpenInt', 'Stock']"
      ]
     },
     "execution_count": 9,
     "metadata": {},
     "output_type": "execute_result"
    }
   ],
   "source": [
    "list(df)"
   ]
  },
  {
   "cell_type": "code",
   "execution_count": null,
   "id": "b26e530c-6cff-4df6-8861-46e263044a22",
   "metadata": {},
   "outputs": [],
   "source": [
    "df.columns"
   ]
  },
  {
   "cell_type": "code",
   "execution_count": null,
   "id": "560d3953-b7e5-4b12-b43d-9cab98fc37f2",
   "metadata": {},
   "outputs": [],
   "source": [
    "df.isnull().any()"
   ]
  },
  {
   "cell_type": "code",
   "execution_count": null,
   "id": "0c6cce1f-9f56-4953-ae8a-ab3b2acadc45",
   "metadata": {},
   "outputs": [],
   "source": [
    "df.isnull().sum()"
   ]
  },
  {
   "cell_type": "code",
   "execution_count": null,
   "id": "d38e3d98-8033-4c0e-a883-66c95777d9dd",
   "metadata": {},
   "outputs": [],
   "source": [
    "df.describe()"
   ]
  },
  {
   "cell_type": "code",
   "execution_count": null,
   "id": "98bb7511-7b23-4203-8603-496b74f4d3ce",
   "metadata": {},
   "outputs": [],
   "source": [
    "df.info()"
   ]
  },
  {
   "cell_type": "code",
   "execution_count": null,
   "id": "e7cc27f6-5146-45d4-b199-c51931670f09",
   "metadata": {},
   "outputs": [],
   "source": [
    "df.describe(include = \"all\").T"
   ]
  },
  {
   "cell_type": "code",
   "execution_count": null,
   "id": "c33b3f46-6c38-40c4-89bd-c913be112553",
   "metadata": {},
   "outputs": [],
   "source": [
    "df['Date'] = pd.to_datetime(df['Date'])"
   ]
  },
  {
   "cell_type": "code",
   "execution_count": null,
   "id": "defafeb3-e1eb-4d00-b3c0-311724af2355",
   "metadata": {},
   "outputs": [],
   "source": [
    "print(f'Dataframe comtains stock prices between {df.Date.min()} {df.Date.max()}')\n",
    "print(f'Total days = {(df.Date.max() - df.Date.min()).days}days')"
   ]
  },
  {
   "cell_type": "code",
   "execution_count": null,
   "id": "518ad489-c9fd-4bac-b0c8-333da4d1705d",
   "metadata": {},
   "outputs": [],
   "source": [
    "len(df)-len(df.drop_duplicates())"
   ]
  },
  {
   "cell_type": "code",
   "execution_count": null,
   "id": "e677c3d0-da36-448a-8050-8a70c922aae9",
   "metadata": {},
   "outputs": [],
   "source": [
    "df[\"Change\"] = df[\"Close\"] - df[\"Open\"]\n",
    "df_interest = df[[\"Stock\", \"Date\", \"Open\", \"Close\", \"Change\", \"Volume\"]]\n",
    "df_interest[\"Date\"] = pd.to_datetime(df_interest[\"Date\"])\n",
    "df_interest.head()"
   ]
  },
  {
   "cell_type": "code",
   "execution_count": null,
   "id": "b0409709-07df-43de-9ad9-5038c387317c",
   "metadata": {},
   "outputs": [],
   "source": [
    "symbolCloseWide = df.pivot(index='Stock', \n",
    "                                  columns='Date', \n",
    "                                  values='Close')\n",
    "symbolCloseWide.head()"
   ]
  },
  {
   "cell_type": "code",
   "execution_count": null,
   "id": "d2152e4d-43d4-4d2c-a514-d29f79f89032",
   "metadata": {},
   "outputs": [],
   "source": [
    "symbols = df_interest[\"Stock\"].unique().tolist()\n",
    "for u in symbols[:10]:\n",
    "    dates = df_interest[(df_interest[\"Stock\"] == u)][\"Date\"]\n",
    "    values = df_interest[(df_interest[\"Stock\"] == u)][\"Close\"]\n",
    "    plt.plot(dates.tolist(), values.tolist())\n",
    "plt.legend(symbols, loc='upper left')\n",
    "plt.show()"
   ]
  },
  {
   "cell_type": "code",
   "execution_count": null,
   "id": "d683341e-9ac3-46db-84c8-1c09ae0d2606",
   "metadata": {},
   "outputs": [],
   "source": [
    "df.corr()"
   ]
  },
  {
   "cell_type": "code",
   "execution_count": null,
   "id": "8d6505f4-07b1-487d-9e6e-0835fe630901",
   "metadata": {},
   "outputs": [],
   "source": [
    "import seaborn as sns\n",
    "plt.figure(figsize=(12,6))\n",
    "autoDataColumns = ['Open','High','Low','Close','Volume']\n",
    "sns.heatmap(df[autoDataColumns].corr(), annot=True, fmt='.6f', linewidths=.5)"
   ]
  },
  {
   "cell_type": "code",
   "execution_count": null,
   "id": "44a1dcc4-ee95-41b2-bdf8-289520a750e9",
   "metadata": {},
   "outputs": [],
   "source": [
    "latest_year = max(pd.unique(list(df_interest[\"Date\"].apply(lambda x:x.year))))\n",
    "latest_year_mask = [i==latest_year for i in df_interest[\"Date\"].apply(lambda x:x.year)]\n",
    "df_masked1 = df_interest[latest_year_mask]\n",
    "df_masked1.head()"
   ]
  },
  {
   "cell_type": "code",
   "execution_count": null,
   "id": "5dbed578-12f7-4d4f-8d29-e21a4134975b",
   "metadata": {},
   "outputs": [],
   "source": [
    "symbols = df_interest[\"Stock\"].unique().tolist()\n",
    "maxPerSymbol={}\n",
    "for u in symbols:\n",
    "    values = df_interest[(df_interest[\"Stock\"] == u)][\"Close\"].tolist()\n",
    "    maxPerSymbol[u] = max(values)\n",
    "\n",
    "top10Closers = list(dict(sorted(maxPerSymbol.items(), \n",
    "                   key=lambda v:v[1], \n",
    "                   reverse=True)[:10]).keys())\n",
    "\n",
    "top_10_mask = [i in top10Closers for i in df_masked1[\"Stock\"].tolist()]\n",
    "df_masked2 = df_masked1[top_10_mask]\n",
    "df_masked2.head()"
   ]
  },
  {
   "cell_type": "code",
   "execution_count": null,
   "id": "51f9c5ad-ba29-4e79-a4b8-f01bf943c72e",
   "metadata": {},
   "outputs": [],
   "source": [
    "symbols = df_masked2[\"Stock\"].unique().tolist()\n",
    "for u in symbols[:10]:\n",
    "    dates = df_masked2[(df_interest[\"Stock\"] == u)][\"Date\"]\n",
    "    values = df_masked2[(df_interest[\"Stock\"] == u)][\"Close\"]\n",
    "    plt.plot(dates.tolist(), values.tolist())\n",
    "plt.legend(symbols, bbox_to_anchor=(1.05, 1), loc=2, borderaxespad=0.)\n",
    "plt.title(r'Top 10 Closing Stocks', fontsize=16)\n",
    "\n",
    "plt.xlabel('Time (years)', fontsize=12)\n",
    "plt.ylabel('Price ($/stock)', fontsize=12)\n",
    "plt.show()\n"
   ]
  },
  {
   "cell_type": "code",
   "execution_count": null,
   "id": "4fa29784-95d5-4b17-956f-0cfcc5385c4d",
   "metadata": {},
   "outputs": [],
   "source": []
  }
 ],
 "metadata": {
  "kernelspec": {
   "display_name": "Python 3",
   "language": "python",
   "name": "python3"
  },
  "language_info": {
   "codemirror_mode": {
    "name": "ipython",
    "version": 3
   },
   "file_extension": ".py",
   "mimetype": "text/x-python",
   "name": "python",
   "nbconvert_exporter": "python",
   "pygments_lexer": "ipython3",
   "version": "3.8.10"
  }
 },
 "nbformat": 4,
 "nbformat_minor": 5
}
