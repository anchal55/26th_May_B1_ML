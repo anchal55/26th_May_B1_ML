{
 "cells": [
  {
   "cell_type": "code",
   "execution_count": 1,
   "id": "ae4d3850-6724-49cb-8526-6e200d47d2c4",
   "metadata": {},
   "outputs": [],
   "source": [
    "from PIL import Image\n",
    "import matplotlib.pyplot as plt\n",
    "import pandas as pd"
   ]
  },
  {
   "cell_type": "code",
   "execution_count": 2,
   "id": "1bcad560-cd32-45a7-afc6-a3fba8617b63",
   "metadata": {},
   "outputs": [
    {
     "ename": "FileNotFoundError",
     "evalue": "[Errno 2] No such file or directory: 'iris.jpg'",
     "output_type": "error",
     "traceback": [
      "\u001b[1;31m---------------------------------------------------------------------------\u001b[0m",
      "\u001b[1;31mFileNotFoundError\u001b[0m                         Traceback (most recent call last)",
      "\u001b[1;32m<ipython-input-2-d0d4ed6fda6d>\u001b[0m in \u001b[0;36m<module>\u001b[1;34m\u001b[0m\n\u001b[1;32m----> 1\u001b[1;33m \u001b[0mimg\u001b[0m \u001b[1;33m=\u001b[0m \u001b[0mImage\u001b[0m\u001b[1;33m.\u001b[0m\u001b[0mopen\u001b[0m\u001b[1;33m(\u001b[0m\u001b[1;34m'iris.jpg'\u001b[0m\u001b[1;33m)\u001b[0m\u001b[1;33m\u001b[0m\u001b[1;33m\u001b[0m\u001b[0m\n\u001b[0m",
      "\u001b[1;32mF:\\newAna\\lib\\site-packages\\PIL\\Image.py\u001b[0m in \u001b[0;36mopen\u001b[1;34m(fp, mode, formats)\u001b[0m\n\u001b[0;32m   2910\u001b[0m \u001b[1;33m\u001b[0m\u001b[0m\n\u001b[0;32m   2911\u001b[0m     \u001b[1;32mif\u001b[0m \u001b[0mfilename\u001b[0m\u001b[1;33m:\u001b[0m\u001b[1;33m\u001b[0m\u001b[1;33m\u001b[0m\u001b[0m\n\u001b[1;32m-> 2912\u001b[1;33m         \u001b[0mfp\u001b[0m \u001b[1;33m=\u001b[0m \u001b[0mbuiltins\u001b[0m\u001b[1;33m.\u001b[0m\u001b[0mopen\u001b[0m\u001b[1;33m(\u001b[0m\u001b[0mfilename\u001b[0m\u001b[1;33m,\u001b[0m \u001b[1;34m\"rb\"\u001b[0m\u001b[1;33m)\u001b[0m\u001b[1;33m\u001b[0m\u001b[1;33m\u001b[0m\u001b[0m\n\u001b[0m\u001b[0;32m   2913\u001b[0m         \u001b[0mexclusive_fp\u001b[0m \u001b[1;33m=\u001b[0m \u001b[1;32mTrue\u001b[0m\u001b[1;33m\u001b[0m\u001b[1;33m\u001b[0m\u001b[0m\n\u001b[0;32m   2914\u001b[0m \u001b[1;33m\u001b[0m\u001b[0m\n",
      "\u001b[1;31mFileNotFoundError\u001b[0m: [Errno 2] No such file or directory: 'iris.jpg'"
     ]
    }
   ],
   "source": [
    "img = Image.open('iris.jpg')\n"
   ]
  },
  {
   "cell_type": "code",
   "execution_count": null,
   "id": "1ec14c45-4504-42d6-8662-3cbd25791762",
   "metadata": {},
   "outputs": [],
   "source": [
    "img"
   ]
  },
  {
   "cell_type": "code",
   "execution_count": null,
   "id": "e266439e-e919-459b-bd6d-3c03fb99dbae",
   "metadata": {},
   "outputs": [],
   "source": [
    "df = pd.read_csv('iris.csv')\n",
    "df.head()"
   ]
  },
  {
   "cell_type": "code",
   "execution_count": null,
   "id": "a2db7f25-dc91-4193-969f-27340557ddb5",
   "metadata": {},
   "outputs": [],
   "source": [
    "df.info()"
   ]
  },
  {
   "cell_type": "code",
   "execution_count": null,
   "id": "a25b6259-8680-4bb7-adb5-f41df9f0dec4",
   "metadata": {},
   "outputs": [],
   "source": [
    "df.drop('Unnamed: 0', axis=1, inplace=True)\n",
    "df.head()"
   ]
  },
  {
   "cell_type": "code",
   "execution_count": null,
   "id": "453f7dcb-27ba-4cd9-8c50-c782cc679efa",
   "metadata": {},
   "outputs": [],
   "source": [
    "df['species'].value_counts()"
   ]
  },
  {
   "cell_type": "code",
   "execution_count": null,
   "id": "0e7483ce-935b-4a3f-baf6-bbcb5283fa87",
   "metadata": {},
   "outputs": [],
   "source": [
    "plt.scatter(df['sepal_length'],df['sepal_width'])"
   ]
  },
  {
   "cell_type": "code",
   "execution_count": null,
   "id": "5b8f7993-feb2-4d12-9029-72ecbd398d1b",
   "metadata": {},
   "outputs": [],
   "source": [
    "plt.scatter(df['petal_length'],df['petal_width'])"
   ]
  },
  {
   "cell_type": "code",
   "execution_count": null,
   "id": "b1f58ba3-9652-4d7b-ae56-0ef9fdbdc782",
   "metadata": {},
   "outputs": [],
   "source": [
    "plt.scatter(df['sepal_length'],df['petal_length'])"
   ]
  },
  {
   "cell_type": "code",
   "execution_count": null,
   "id": "11aba436-a127-42b4-862c-8bd23245c6a7",
   "metadata": {},
   "outputs": [],
   "source": [
    "import seaborn as sns"
   ]
  },
  {
   "cell_type": "code",
   "execution_count": null,
   "id": "6ea700d2-4a1c-4f9b-a62c-c9a0acab4112",
   "metadata": {},
   "outputs": [],
   "source": [
    "sns.pairplot(df, hue='species')"
   ]
  },
  {
   "cell_type": "code",
   "execution_count": null,
   "id": "d4f91a11-2f4a-4120-81e1-705554eda9b8",
   "metadata": {},
   "outputs": [],
   "source": [
    "df2 = df.loc[:99]\n",
    "df2"
   ]
  },
  {
   "cell_type": "code",
   "execution_count": null,
   "id": "d1e299a2-2696-4059-924d-2b5ac5c32a7b",
   "metadata": {},
   "outputs": [],
   "source": [
    "sns.pairplot(df2, hue='species')"
   ]
  },
  {
   "cell_type": "code",
   "execution_count": null,
   "id": "8dc1ec4f-d80e-4e12-a909-d14c3f481b3e",
   "metadata": {},
   "outputs": [],
   "source": [
    "from sklearn.model_selection import train_test_split"
   ]
  },
  {
   "cell_type": "code",
   "execution_count": null,
   "id": "0646639f-a5e9-4112-8aa5-eebad323f6c6",
   "metadata": {},
   "outputs": [],
   "source": [
    "xtrain,xtest,ytrain,ytest=train_test_split(df2.drop('species',axis=1),df2['species'],test_size=0.25,random_state=10)"
   ]
  },
  {
   "cell_type": "code",
   "execution_count": null,
   "id": "178d05f8-088c-49df-87df-8a49918494ff",
   "metadata": {},
   "outputs": [],
   "source": [
    "xtrain.info()"
   ]
  },
  {
   "cell_type": "code",
   "execution_count": null,
   "id": "c8a2ec8d-6317-4e2b-a3c4-f8fffc81ad49",
   "metadata": {},
   "outputs": [],
   "source": [
    "xtest.info()"
   ]
  },
  {
   "cell_type": "code",
   "execution_count": null,
   "id": "29492cd0-798b-4322-8ba6-c8d1d7b420d4",
   "metadata": {},
   "outputs": [],
   "source": [
    "from sklearn.linear_model import LogisticRegression, LogisticRegressionCV"
   ]
  },
  {
   "cell_type": "code",
   "execution_count": null,
   "id": "4e0ad845-201c-407c-8101-3e4e83f3c36a",
   "metadata": {},
   "outputs": [],
   "source": [
    "model = LogisticRegression().fit(xtrain,ytrain)"
   ]
  },
  {
   "cell_type": "code",
   "execution_count": null,
   "id": "7626d75b-b660-4594-a6c6-2673f02425a7",
   "metadata": {},
   "outputs": [],
   "source": [
    "round(model.score(xtest,ytest)*100,2)"
   ]
  },
  {
   "cell_type": "code",
   "execution_count": null,
   "id": "096dbceb-3038-416a-b977-1f85696b1410",
   "metadata": {},
   "outputs": [],
   "source": [
    "from sklearn.metrics import confusion_matrix, classification_report"
   ]
  },
  {
   "cell_type": "code",
   "execution_count": null,
   "id": "de048beb-1fd2-427f-b200-cbddf6392da6",
   "metadata": {},
   "outputs": [],
   "source": [
    "ypred = model.predict(xtest)"
   ]
  },
  {
   "cell_type": "code",
   "execution_count": null,
   "id": "bd80175d-9195-4e34-a348-18af3c439f77",
   "metadata": {},
   "outputs": [],
   "source": [
    "print(confusion_matrix(ytest,ypred))"
   ]
  },
  {
   "cell_type": "code",
   "execution_count": null,
   "id": "2356f40c-45ae-4c84-bb0a-390b82881587",
   "metadata": {},
   "outputs": [],
   "source": [
    "print(classification_report(ytest,ypred))"
   ]
  },
  {
   "cell_type": "code",
   "execution_count": null,
   "id": "8f0e0b45-8047-4a53-a38e-374e7c6ba69c",
   "metadata": {},
   "outputs": [],
   "source": []
  }
 ],
 "metadata": {
  "kernelspec": {
   "display_name": "Python 3",
   "language": "python",
   "name": "python3"
  },
  "language_info": {
   "codemirror_mode": {
    "name": "ipython",
    "version": 3
   },
   "file_extension": ".py",
   "mimetype": "text/x-python",
   "name": "python",
   "nbconvert_exporter": "python",
   "pygments_lexer": "ipython3",
   "version": "3.8.8"
  }
 },
 "nbformat": 4,
 "nbformat_minor": 5
}
